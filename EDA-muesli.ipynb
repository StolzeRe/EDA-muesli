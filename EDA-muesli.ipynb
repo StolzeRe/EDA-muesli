{
 "cells": [
  {
   "cell_type": "code",
   "execution_count": 3,
   "metadata": {},
   "outputs": [
    {
     "ename": "ModuleNotFoundError",
     "evalue": "No module named 'pandas'",
     "output_type": "error",
     "traceback": [
      "\u001b[1;31m---------------------------------------------------------------------------\u001b[0m",
      "\u001b[1;31mModuleNotFoundError\u001b[0m                       Traceback (most recent call last)",
      "\u001b[1;32m~\\AppData\\Local\\Temp\\ipykernel_10512\\4080736814.py\u001b[0m in \u001b[0;36m<module>\u001b[1;34m\u001b[0m\n\u001b[1;32m----> 1\u001b[1;33m \u001b[1;32mimport\u001b[0m \u001b[0mpandas\u001b[0m \u001b[1;32mas\u001b[0m \u001b[0mpd\u001b[0m\u001b[1;33m\u001b[0m\u001b[1;33m\u001b[0m\u001b[0m\n\u001b[0m",
      "\u001b[1;31mModuleNotFoundError\u001b[0m: No module named 'pandas'"
     ]
    }
   ],
   "source": [
    "import pandas as pd"
   ]
  },
  {
   "cell_type": "markdown",
   "metadata": {},
   "source": [
    "# Clean & check 'orders'"
   ]
  },
  {
   "cell_type": "code",
   "execution_count": null,
   "metadata": {},
   "outputs": [],
   "source": [
    "orders = pd.read_csv(\"data/muesli_raw_orders.csv\", header=1)"
   ]
  },
  {
   "cell_type": "code",
   "execution_count": null,
   "metadata": {},
   "outputs": [],
   "source": [
    "orders.columns = orders.columns.str.lower()"
   ]
  },
  {
   "cell_type": "code",
   "execution_count": null,
   "metadata": {},
   "outputs": [],
   "source": [
    "cols = orders.columns.tolist()\n",
    "cols = [col.replace(' ', '_') for col in cols]\n",
    "orders.columns = cols"
   ]
  },
  {
   "cell_type": "code",
   "execution_count": null,
   "metadata": {},
   "outputs": [],
   "source": [
    "orders['order_date'] = pd.to_datetime(orders['order_date'], format=\"%d/%m/%Y\")"
   ]
  },
  {
   "cell_type": "code",
   "execution_count": null,
   "metadata": {},
   "outputs": [],
   "source": [
    "orders.drop_duplicates(subset=\"order_id\", inplace=True)"
   ]
  },
  {
   "cell_type": "code",
   "execution_count": null,
   "metadata": {},
   "outputs": [
    {
     "name": "stdout",
     "output_type": "stream",
     "text": [
      "<class 'pandas.core.frame.DataFrame'>\n",
      "Int64Index: 5009 entries, 0 to 9988\n",
      "Data columns (total 19 columns):\n",
      " #   Column          Non-Null Count  Dtype         \n",
      "---  ------          --------------  -----         \n",
      " 0   index           5009 non-null   int64         \n",
      " 1   order_id        5009 non-null   object        \n",
      " 2   order_date      5009 non-null   datetime64[ns]\n",
      " 3   ship_mode       5009 non-null   object        \n",
      " 4   customer_id     5009 non-null   object        \n",
      " 5   customer_name   5009 non-null   object        \n",
      " 6   origin_channel  5009 non-null   object        \n",
      " 7   country/region  5009 non-null   object        \n",
      " 8   city            5009 non-null   object        \n",
      " 9   state           5009 non-null   object        \n",
      " 10  postal_code     5003 non-null   float64       \n",
      " 11  region          5009 non-null   object        \n",
      " 12  category        5009 non-null   object        \n",
      " 13  sub-category    5009 non-null   object        \n",
      " 14  product_id      5009 non-null   object        \n",
      " 15  sales           5009 non-null   float64       \n",
      " 16  quantity        5009 non-null   int64         \n",
      " 17  discount        5009 non-null   float64       \n",
      " 18  profit          5009 non-null   float64       \n",
      "dtypes: datetime64[ns](1), float64(4), int64(2), object(12)\n",
      "memory usage: 782.7+ KB\n"
     ]
    }
   ],
   "source": [
    "orders.info()"
   ]
  },
  {
   "cell_type": "code",
   "execution_count": null,
   "metadata": {},
   "outputs": [
    {
     "data": {
      "text/plain": [
       "Standard Class    2994\n",
       "First Class       1051\n",
       "Second Class       964\n",
       "Name: ship_mode, dtype: int64"
      ]
     },
     "execution_count": 189,
     "metadata": {},
     "output_type": "execute_result"
    }
   ],
   "source": [
    "orders.ship_mode.value_counts()"
   ]
  },
  {
   "cell_type": "markdown",
   "metadata": {},
   "source": [
    "# Clean & Check 'truck'"
   ]
  },
  {
   "cell_type": "code",
   "execution_count": null,
   "metadata": {},
   "outputs": [],
   "source": [
    "truck = pd.read_csv(\"data/muesli_truck_data.csv\")"
   ]
  },
  {
   "cell_type": "code",
   "execution_count": null,
   "metadata": {},
   "outputs": [],
   "source": [
    "cols = truck.columns.tolist()\n",
    "cols = [col.replace(' ', '_') for col in cols]\n",
    "truck.columns = cols"
   ]
  },
  {
   "cell_type": "code",
   "execution_count": null,
   "metadata": {},
   "outputs": [],
   "source": [
    "truck.columns = truck.columns.str.lower()"
   ]
  },
  {
   "cell_type": "code",
   "execution_count": null,
   "metadata": {},
   "outputs": [
    {
     "data": {
      "text/html": [
       "<div>\n",
       "<style scoped>\n",
       "    .dataframe tbody tr th:only-of-type {\n",
       "        vertical-align: middle;\n",
       "    }\n",
       "\n",
       "    .dataframe tbody tr th {\n",
       "        vertical-align: top;\n",
       "    }\n",
       "\n",
       "    .dataframe thead th {\n",
       "        text-align: right;\n",
       "    }\n",
       "</style>\n",
       "<table border=\"1\" class=\"dataframe\">\n",
       "  <thead>\n",
       "    <tr style=\"text-align: right;\">\n",
       "      <th></th>\n",
       "      <th>row_id</th>\n",
       "      <th>order_id</th>\n",
       "      <th>order_date</th>\n",
       "      <th>on_truck_scan_date</th>\n",
       "      <th>ship_mode</th>\n",
       "    </tr>\n",
       "  </thead>\n",
       "  <tbody>\n",
       "    <tr>\n",
       "      <th>0</th>\n",
       "      <td>3074</td>\n",
       "      <td>CA-2019-125206</td>\n",
       "      <td>3/1/2019</td>\n",
       "      <td>07/01/2019</td>\n",
       "      <td>Express</td>\n",
       "    </tr>\n",
       "    <tr>\n",
       "      <th>1</th>\n",
       "      <td>4919</td>\n",
       "      <td>CA-2019-160304</td>\n",
       "      <td>2/1/2019</td>\n",
       "      <td>09/01/2019</td>\n",
       "      <td>Standard Processing</td>\n",
       "    </tr>\n",
       "    <tr>\n",
       "      <th>2</th>\n",
       "      <td>4920</td>\n",
       "      <td>CA-2019-160304</td>\n",
       "      <td>2/1/2019</td>\n",
       "      <td>09/01/2019</td>\n",
       "      <td>Standard Processing</td>\n",
       "    </tr>\n",
       "    <tr>\n",
       "      <th>3</th>\n",
       "      <td>8604</td>\n",
       "      <td>US-2019-116365</td>\n",
       "      <td>3/1/2019</td>\n",
       "      <td>09/01/2019</td>\n",
       "      <td>Standard Processing</td>\n",
       "    </tr>\n",
       "    <tr>\n",
       "      <th>4</th>\n",
       "      <td>8605</td>\n",
       "      <td>US-2019-116365</td>\n",
       "      <td>3/1/2019</td>\n",
       "      <td>09/01/2019</td>\n",
       "      <td>Standard Processing</td>\n",
       "    </tr>\n",
       "  </tbody>\n",
       "</table>\n",
       "</div>"
      ],
      "text/plain": [
       "   row_id        order_id order_date on_truck_scan_date            ship_mode\n",
       "0    3074  CA-2019-125206   3/1/2019         07/01/2019              Express\n",
       "1    4919  CA-2019-160304   2/1/2019         09/01/2019  Standard Processing\n",
       "2    4920  CA-2019-160304   2/1/2019         09/01/2019  Standard Processing\n",
       "3    8604  US-2019-116365   3/1/2019         09/01/2019  Standard Processing\n",
       "4    8605  US-2019-116365   3/1/2019         09/01/2019  Standard Processing"
      ]
     },
     "execution_count": 158,
     "metadata": {},
     "output_type": "execute_result"
    }
   ],
   "source": [
    "truck.head()"
   ]
  },
  {
   "cell_type": "code",
   "execution_count": null,
   "metadata": {},
   "outputs": [],
   "source": [
    "truck['order_date'] = pd.to_datetime(truck['order_date'], format=\"%d/%m/%Y\")\n",
    "truck['on_truck_scan_date'] = pd.to_datetime(truck['on_truck_scan_date'], format=\"%d/%m/%Y\")"
   ]
  },
  {
   "cell_type": "code",
   "execution_count": null,
   "metadata": {},
   "outputs": [],
   "source": [
    "truck.drop_duplicates(subset=\"order_id\", inplace=True)"
   ]
  },
  {
   "cell_type": "code",
   "execution_count": null,
   "metadata": {},
   "outputs": [],
   "source": [
    "truck.drop([\"order_date\"], axis=1, inplace=True)"
   ]
  },
  {
   "cell_type": "code",
   "execution_count": null,
   "metadata": {},
   "outputs": [],
   "source": [
    "truck.drop([\"row_id\"], axis=1, inplace=True)"
   ]
  },
  {
   "cell_type": "code",
   "execution_count": null,
   "metadata": {},
   "outputs": [
    {
     "name": "stdout",
     "output_type": "stream",
     "text": [
      "<class 'pandas.core.frame.DataFrame'>\n",
      "Int64Index: 3002 entries, 0 to 5898\n",
      "Data columns (total 3 columns):\n",
      " #   Column              Non-Null Count  Dtype         \n",
      "---  ------              --------------  -----         \n",
      " 0   order_id            3002 non-null   object        \n",
      " 1   on_truck_scan_date  3002 non-null   datetime64[ns]\n",
      " 2   ship_mode           3002 non-null   object        \n",
      "dtypes: datetime64[ns](1), object(2)\n",
      "memory usage: 93.8+ KB\n"
     ]
    }
   ],
   "source": [
    "truck.info()"
   ]
  },
  {
   "cell_type": "code",
   "execution_count": null,
   "metadata": {},
   "outputs": [
    {
     "data": {
      "text/html": [
       "<div>\n",
       "<style scoped>\n",
       "    .dataframe tbody tr th:only-of-type {\n",
       "        vertical-align: middle;\n",
       "    }\n",
       "\n",
       "    .dataframe tbody tr th {\n",
       "        vertical-align: top;\n",
       "    }\n",
       "\n",
       "    .dataframe thead th {\n",
       "        text-align: right;\n",
       "    }\n",
       "</style>\n",
       "<table border=\"1\" class=\"dataframe\">\n",
       "  <thead>\n",
       "    <tr style=\"text-align: right;\">\n",
       "      <th></th>\n",
       "      <th>order_id</th>\n",
       "      <th>on_truck_scan_date</th>\n",
       "      <th>ship_mode</th>\n",
       "    </tr>\n",
       "  </thead>\n",
       "  <tbody>\n",
       "    <tr>\n",
       "      <th>0</th>\n",
       "      <td>CA-2019-125206</td>\n",
       "      <td>2019-01-07</td>\n",
       "      <td>Express</td>\n",
       "    </tr>\n",
       "    <tr>\n",
       "      <th>1</th>\n",
       "      <td>CA-2019-160304</td>\n",
       "      <td>2019-01-09</td>\n",
       "      <td>Standard Processing</td>\n",
       "    </tr>\n",
       "    <tr>\n",
       "      <th>3</th>\n",
       "      <td>US-2019-116365</td>\n",
       "      <td>2019-01-09</td>\n",
       "      <td>Standard Processing</td>\n",
       "    </tr>\n",
       "    <tr>\n",
       "      <th>6</th>\n",
       "      <td>CA-2019-105207</td>\n",
       "      <td>2019-01-09</td>\n",
       "      <td>Standard Processing</td>\n",
       "    </tr>\n",
       "    <tr>\n",
       "      <th>8</th>\n",
       "      <td>CA-2019-158211</td>\n",
       "      <td>2019-01-09</td>\n",
       "      <td>Standard Processing</td>\n",
       "    </tr>\n",
       "  </tbody>\n",
       "</table>\n",
       "</div>"
      ],
      "text/plain": [
       "         order_id on_truck_scan_date            ship_mode\n",
       "0  CA-2019-125206         2019-01-07              Express\n",
       "1  CA-2019-160304         2019-01-09  Standard Processing\n",
       "3  US-2019-116365         2019-01-09  Standard Processing\n",
       "6  CA-2019-105207         2019-01-09  Standard Processing\n",
       "8  CA-2019-158211         2019-01-09  Standard Processing"
      ]
     },
     "execution_count": 164,
     "metadata": {},
     "output_type": "execute_result"
    }
   ],
   "source": [
    "truck.head()"
   ]
  },
  {
   "cell_type": "code",
   "execution_count": null,
   "metadata": {},
   "outputs": [
    {
     "data": {
      "text/plain": [
       "Standard Processing    2340\n",
       "Express                 662\n",
       "Name: ship_mode, dtype: int64"
      ]
     },
     "execution_count": 190,
     "metadata": {},
     "output_type": "execute_result"
    }
   ],
   "source": [
    "truck.ship_mode.value_counts()"
   ]
  },
  {
   "cell_type": "markdown",
   "metadata": {},
   "source": [
    "# Clean & check 'intern'"
   ]
  },
  {
   "cell_type": "code",
   "execution_count": null,
   "metadata": {},
   "outputs": [],
   "source": [
    "intern = pd.read_csv(\"data/muesli_intern_data.csv\")"
   ]
  },
  {
   "cell_type": "code",
   "execution_count": null,
   "metadata": {},
   "outputs": [],
   "source": [
    "intern.columns = intern.columns.str.lower()"
   ]
  },
  {
   "cell_type": "code",
   "execution_count": null,
   "metadata": {},
   "outputs": [],
   "source": [
    "cols = intern.columns.tolist()\n",
    "cols = [col.replace(' ', '_') for col in cols]\n",
    "intern.columns = cols"
   ]
  },
  {
   "cell_type": "code",
   "execution_count": null,
   "metadata": {},
   "outputs": [],
   "source": [
    "intern[\"ready_to_ship_date\"] = pd.to_datetime(intern[\"ready_to_ship_date\"], format=\"%d/%m/%Y\")\n",
    "intern[\"pickup_date\"] = pd.to_datetime(intern[\"pickup_date\"], format=\"%d/%m/%Y\")"
   ]
  },
  {
   "cell_type": "code",
   "execution_count": null,
   "metadata": {},
   "outputs": [
    {
     "name": "stdout",
     "output_type": "stream",
     "text": [
      "<class 'pandas.core.frame.DataFrame'>\n",
      "RangeIndex: 290 entries, 0 to 289\n",
      "Data columns (total 3 columns):\n",
      " #   Column              Non-Null Count  Dtype         \n",
      "---  ------              --------------  -----         \n",
      " 0   order_id            290 non-null    object        \n",
      " 1   ready_to_ship_date  290 non-null    datetime64[ns]\n",
      " 2   pickup_date         290 non-null    datetime64[ns]\n",
      "dtypes: datetime64[ns](2), object(1)\n",
      "memory usage: 6.9+ KB\n"
     ]
    }
   ],
   "source": [
    "intern.info()"
   ]
  },
  {
   "cell_type": "code",
   "execution_count": null,
   "metadata": {},
   "outputs": [
    {
     "data": {
      "text/html": [
       "<div>\n",
       "<style scoped>\n",
       "    .dataframe tbody tr th:only-of-type {\n",
       "        vertical-align: middle;\n",
       "    }\n",
       "\n",
       "    .dataframe tbody tr th {\n",
       "        vertical-align: top;\n",
       "    }\n",
       "\n",
       "    .dataframe thead th {\n",
       "        text-align: right;\n",
       "    }\n",
       "</style>\n",
       "<table border=\"1\" class=\"dataframe\">\n",
       "  <thead>\n",
       "    <tr style=\"text-align: right;\">\n",
       "      <th></th>\n",
       "      <th>order_id</th>\n",
       "      <th>ready_to_ship_date</th>\n",
       "      <th>pickup_date</th>\n",
       "    </tr>\n",
       "  </thead>\n",
       "  <tbody>\n",
       "    <tr>\n",
       "      <th>0</th>\n",
       "      <td>CA-2019-116540</td>\n",
       "      <td>2019-09-02</td>\n",
       "      <td>2019-09-03</td>\n",
       "    </tr>\n",
       "    <tr>\n",
       "      <th>1</th>\n",
       "      <td>CA-2019-116540</td>\n",
       "      <td>2019-09-02</td>\n",
       "      <td>2019-09-03</td>\n",
       "    </tr>\n",
       "    <tr>\n",
       "      <th>2</th>\n",
       "      <td>CA-2019-129847</td>\n",
       "      <td>2019-09-04</td>\n",
       "      <td>2019-09-04</td>\n",
       "    </tr>\n",
       "    <tr>\n",
       "      <th>3</th>\n",
       "      <td>CA-2019-129630</td>\n",
       "      <td>2019-09-04</td>\n",
       "      <td>2019-09-04</td>\n",
       "    </tr>\n",
       "    <tr>\n",
       "      <th>4</th>\n",
       "      <td>CA-2019-106278</td>\n",
       "      <td>2019-09-05</td>\n",
       "      <td>2019-09-06</td>\n",
       "    </tr>\n",
       "  </tbody>\n",
       "</table>\n",
       "</div>"
      ],
      "text/plain": [
       "         order_id ready_to_ship_date pickup_date\n",
       "0  CA-2019-116540         2019-09-02  2019-09-03\n",
       "1  CA-2019-116540         2019-09-02  2019-09-03\n",
       "2  CA-2019-129847         2019-09-04  2019-09-04\n",
       "3  CA-2019-129630         2019-09-04  2019-09-04\n",
       "4  CA-2019-106278         2019-09-05  2019-09-06"
      ]
     },
     "execution_count": 170,
     "metadata": {},
     "output_type": "execute_result"
    }
   ],
   "source": [
    "intern.head()"
   ]
  },
  {
   "cell_type": "code",
   "execution_count": null,
   "metadata": {},
   "outputs": [],
   "source": [
    "intern.drop_duplicates(subset=\"order_id\", inplace=True)"
   ]
  },
  {
   "cell_type": "markdown",
   "metadata": {},
   "source": [
    "# Creating new DataFrame for Process Time"
   ]
  },
  {
   "cell_type": "code",
   "execution_count": null,
   "metadata": {},
   "outputs": [],
   "source": [
    "orders_in = orders[[\"order_id\", \"order_date\"]]"
   ]
  },
  {
   "cell_type": "code",
   "execution_count": null,
   "metadata": {},
   "outputs": [
    {
     "name": "stdout",
     "output_type": "stream",
     "text": [
      "<class 'pandas.core.frame.DataFrame'>\n",
      "Int64Index: 5009 entries, 0 to 9988\n",
      "Data columns (total 2 columns):\n",
      " #   Column      Non-Null Count  Dtype         \n",
      "---  ------      --------------  -----         \n",
      " 0   order_id    5009 non-null   object        \n",
      " 1   order_date  5009 non-null   datetime64[ns]\n",
      "dtypes: datetime64[ns](1), object(1)\n",
      "memory usage: 117.4+ KB\n"
     ]
    }
   ],
   "source": [
    "orders_in.info()"
   ]
  },
  {
   "cell_type": "code",
   "execution_count": null,
   "metadata": {},
   "outputs": [],
   "source": [
    "process_time = orders_in.merge(truck, how='left', on='order_id')"
   ]
  },
  {
   "cell_type": "code",
   "execution_count": null,
   "metadata": {},
   "outputs": [
    {
     "name": "stdout",
     "output_type": "stream",
     "text": [
      "<class 'pandas.core.frame.DataFrame'>\n",
      "Int64Index: 5009 entries, 0 to 5008\n",
      "Data columns (total 4 columns):\n",
      " #   Column              Non-Null Count  Dtype         \n",
      "---  ------              --------------  -----         \n",
      " 0   order_id            5009 non-null   object        \n",
      " 1   order_date          5009 non-null   datetime64[ns]\n",
      " 2   on_truck_scan_date  3002 non-null   datetime64[ns]\n",
      " 3   ship_mode           3002 non-null   object        \n",
      "dtypes: datetime64[ns](2), object(2)\n",
      "memory usage: 195.7+ KB\n"
     ]
    }
   ],
   "source": [
    "process_time.info()"
   ]
  },
  {
   "cell_type": "code",
   "execution_count": null,
   "metadata": {},
   "outputs": [
    {
     "data": {
      "text/html": [
       "<div>\n",
       "<style scoped>\n",
       "    .dataframe tbody tr th:only-of-type {\n",
       "        vertical-align: middle;\n",
       "    }\n",
       "\n",
       "    .dataframe tbody tr th {\n",
       "        vertical-align: top;\n",
       "    }\n",
       "\n",
       "    .dataframe thead th {\n",
       "        text-align: right;\n",
       "    }\n",
       "</style>\n",
       "<table border=\"1\" class=\"dataframe\">\n",
       "  <thead>\n",
       "    <tr style=\"text-align: right;\">\n",
       "      <th></th>\n",
       "      <th>order_id</th>\n",
       "      <th>order_date</th>\n",
       "      <th>on_truck_scan_date</th>\n",
       "      <th>ship_mode</th>\n",
       "    </tr>\n",
       "  </thead>\n",
       "  <tbody>\n",
       "    <tr>\n",
       "      <th>0</th>\n",
       "      <td>CA-2019-121755</td>\n",
       "      <td>2019-01-16</td>\n",
       "      <td>2019-01-23</td>\n",
       "      <td>Standard Processing</td>\n",
       "    </tr>\n",
       "    <tr>\n",
       "      <th>1</th>\n",
       "      <td>CA-2019-118255</td>\n",
       "      <td>2019-03-11</td>\n",
       "      <td>2019-03-13</td>\n",
       "      <td>Express</td>\n",
       "    </tr>\n",
       "    <tr>\n",
       "      <th>2</th>\n",
       "      <td>CA-2019-169194</td>\n",
       "      <td>2019-06-20</td>\n",
       "      <td>2019-06-26</td>\n",
       "      <td>Standard Processing</td>\n",
       "    </tr>\n",
       "    <tr>\n",
       "      <th>3</th>\n",
       "      <td>CA-2019-111682</td>\n",
       "      <td>2019-06-17</td>\n",
       "      <td>2019-06-19</td>\n",
       "      <td>Express</td>\n",
       "    </tr>\n",
       "    <tr>\n",
       "      <th>4</th>\n",
       "      <td>CA-2018-135545</td>\n",
       "      <td>2018-11-24</td>\n",
       "      <td>NaT</td>\n",
       "      <td>NaN</td>\n",
       "    </tr>\n",
       "  </tbody>\n",
       "</table>\n",
       "</div>"
      ],
      "text/plain": [
       "         order_id order_date on_truck_scan_date            ship_mode\n",
       "0  CA-2019-121755 2019-01-16         2019-01-23  Standard Processing\n",
       "1  CA-2019-118255 2019-03-11         2019-03-13              Express\n",
       "2  CA-2019-169194 2019-06-20         2019-06-26  Standard Processing\n",
       "3  CA-2019-111682 2019-06-17         2019-06-19              Express\n",
       "4  CA-2018-135545 2018-11-24                NaT                  NaN"
      ]
     },
     "execution_count": 177,
     "metadata": {},
     "output_type": "execute_result"
    }
   ],
   "source": [
    "process_time.head()"
   ]
  },
  {
   "cell_type": "code",
   "execution_count": null,
   "metadata": {},
   "outputs": [],
   "source": [
    "# Prüfung ob order_date in truck eliminiert werden kann -> Ja\n",
    "\n",
    "# process_time[\"check_order_date\"] = process_time[\"order_date_x\"] - process_time[\"order_date_y\"]\n",
    "# process_time[\"check_order_date\"].nunique()\n",
    "# process_time.drop([\"order_date_y\"], axis=1)\n",
    "# process_time.drop([\"check_order_date\"], axis=1)"
   ]
  },
  {
   "cell_type": "code",
   "execution_count": null,
   "metadata": {},
   "outputs": [],
   "source": [
    "process_time[\"delta_order_truck\"] = process_time[\"on_truck_scan_date\"] - process_time[\"order_date\"]\n",
    "process_time['delta_order_truck'] = process_time['delta_order_truck'].astype('timedelta64[D]')"
   ]
  },
  {
   "cell_type": "code",
   "execution_count": null,
   "metadata": {},
   "outputs": [],
   "source": [
    "process_time.dropna(axis=0,subset=\"on_truck_scan_date\", inplace=True)"
   ]
  },
  {
   "cell_type": "code",
   "execution_count": null,
   "metadata": {},
   "outputs": [
    {
     "data": {
      "text/html": [
       "<div>\n",
       "<style scoped>\n",
       "    .dataframe tbody tr th:only-of-type {\n",
       "        vertical-align: middle;\n",
       "    }\n",
       "\n",
       "    .dataframe tbody tr th {\n",
       "        vertical-align: top;\n",
       "    }\n",
       "\n",
       "    .dataframe thead th {\n",
       "        text-align: right;\n",
       "    }\n",
       "</style>\n",
       "<table border=\"1\" class=\"dataframe\">\n",
       "  <thead>\n",
       "    <tr style=\"text-align: right;\">\n",
       "      <th></th>\n",
       "      <th>index</th>\n",
       "      <th>order_id</th>\n",
       "      <th>order_date</th>\n",
       "      <th>on_truck_scan_date</th>\n",
       "      <th>ship_mode</th>\n",
       "      <th>delta_order_truck</th>\n",
       "    </tr>\n",
       "  </thead>\n",
       "  <tbody>\n",
       "    <tr>\n",
       "      <th>0</th>\n",
       "      <td>0</td>\n",
       "      <td>CA-2019-121755</td>\n",
       "      <td>2019-01-16</td>\n",
       "      <td>2019-01-23</td>\n",
       "      <td>Standard Processing</td>\n",
       "      <td>7.0</td>\n",
       "    </tr>\n",
       "    <tr>\n",
       "      <th>1</th>\n",
       "      <td>1</td>\n",
       "      <td>CA-2019-118255</td>\n",
       "      <td>2019-03-11</td>\n",
       "      <td>2019-03-13</td>\n",
       "      <td>Express</td>\n",
       "      <td>2.0</td>\n",
       "    </tr>\n",
       "    <tr>\n",
       "      <th>2</th>\n",
       "      <td>2</td>\n",
       "      <td>CA-2019-169194</td>\n",
       "      <td>2019-06-20</td>\n",
       "      <td>2019-06-26</td>\n",
       "      <td>Standard Processing</td>\n",
       "      <td>6.0</td>\n",
       "    </tr>\n",
       "    <tr>\n",
       "      <th>3</th>\n",
       "      <td>3</td>\n",
       "      <td>CA-2019-111682</td>\n",
       "      <td>2019-06-17</td>\n",
       "      <td>2019-06-19</td>\n",
       "      <td>Express</td>\n",
       "      <td>2.0</td>\n",
       "    </tr>\n",
       "    <tr>\n",
       "      <th>4</th>\n",
       "      <td>5</td>\n",
       "      <td>CA-2020-155558</td>\n",
       "      <td>2020-10-26</td>\n",
       "      <td>2020-11-04</td>\n",
       "      <td>Standard Processing</td>\n",
       "      <td>9.0</td>\n",
       "    </tr>\n",
       "    <tr>\n",
       "      <th>...</th>\n",
       "      <td>...</td>\n",
       "      <td>...</td>\n",
       "      <td>...</td>\n",
       "      <td>...</td>\n",
       "      <td>...</td>\n",
       "      <td>...</td>\n",
       "    </tr>\n",
       "    <tr>\n",
       "      <th>2997</th>\n",
       "      <td>5002</td>\n",
       "      <td>US-2020-109610</td>\n",
       "      <td>2020-11-25</td>\n",
       "      <td>2020-12-02</td>\n",
       "      <td>Standard Processing</td>\n",
       "      <td>7.0</td>\n",
       "    </tr>\n",
       "    <tr>\n",
       "      <th>2998</th>\n",
       "      <td>5004</td>\n",
       "      <td>CA-2019-146913</td>\n",
       "      <td>2019-10-31</td>\n",
       "      <td>2019-11-06</td>\n",
       "      <td>Standard Processing</td>\n",
       "      <td>6.0</td>\n",
       "    </tr>\n",
       "    <tr>\n",
       "      <th>2999</th>\n",
       "      <td>5006</td>\n",
       "      <td>CA-2020-107209</td>\n",
       "      <td>2020-07-27</td>\n",
       "      <td>2020-08-05</td>\n",
       "      <td>Standard Processing</td>\n",
       "      <td>9.0</td>\n",
       "    </tr>\n",
       "    <tr>\n",
       "      <th>3000</th>\n",
       "      <td>5007</td>\n",
       "      <td>US-2020-152842</td>\n",
       "      <td>2020-07-16</td>\n",
       "      <td>2020-07-24</td>\n",
       "      <td>Standard Processing</td>\n",
       "      <td>8.0</td>\n",
       "    </tr>\n",
       "    <tr>\n",
       "      <th>3001</th>\n",
       "      <td>5008</td>\n",
       "      <td>CA-2019-122581</td>\n",
       "      <td>2019-08-21</td>\n",
       "      <td>2019-08-28</td>\n",
       "      <td>Standard Processing</td>\n",
       "      <td>7.0</td>\n",
       "    </tr>\n",
       "  </tbody>\n",
       "</table>\n",
       "<p>3002 rows × 6 columns</p>\n",
       "</div>"
      ],
      "text/plain": [
       "      index        order_id order_date on_truck_scan_date  \\\n",
       "0         0  CA-2019-121755 2019-01-16         2019-01-23   \n",
       "1         1  CA-2019-118255 2019-03-11         2019-03-13   \n",
       "2         2  CA-2019-169194 2019-06-20         2019-06-26   \n",
       "3         3  CA-2019-111682 2019-06-17         2019-06-19   \n",
       "4         5  CA-2020-155558 2020-10-26         2020-11-04   \n",
       "...     ...             ...        ...                ...   \n",
       "2997   5002  US-2020-109610 2020-11-25         2020-12-02   \n",
       "2998   5004  CA-2019-146913 2019-10-31         2019-11-06   \n",
       "2999   5006  CA-2020-107209 2020-07-27         2020-08-05   \n",
       "3000   5007  US-2020-152842 2020-07-16         2020-07-24   \n",
       "3001   5008  CA-2019-122581 2019-08-21         2019-08-28   \n",
       "\n",
       "                ship_mode  delta_order_truck  \n",
       "0     Standard Processing                7.0  \n",
       "1                 Express                2.0  \n",
       "2     Standard Processing                6.0  \n",
       "3                 Express                2.0  \n",
       "4     Standard Processing                9.0  \n",
       "...                   ...                ...  \n",
       "2997  Standard Processing                7.0  \n",
       "2998  Standard Processing                6.0  \n",
       "2999  Standard Processing                9.0  \n",
       "3000  Standard Processing                8.0  \n",
       "3001  Standard Processing                7.0  \n",
       "\n",
       "[3002 rows x 6 columns]"
      ]
     },
     "execution_count": 181,
     "metadata": {},
     "output_type": "execute_result"
    }
   ],
   "source": [
    "process_time.reset_index()"
   ]
  },
  {
   "cell_type": "code",
   "execution_count": null,
   "metadata": {},
   "outputs": [
    {
     "data": {
      "text/html": [
       "<div>\n",
       "<style scoped>\n",
       "    .dataframe tbody tr th:only-of-type {\n",
       "        vertical-align: middle;\n",
       "    }\n",
       "\n",
       "    .dataframe tbody tr th {\n",
       "        vertical-align: top;\n",
       "    }\n",
       "\n",
       "    .dataframe thead th {\n",
       "        text-align: right;\n",
       "    }\n",
       "</style>\n",
       "<table border=\"1\" class=\"dataframe\">\n",
       "  <thead>\n",
       "    <tr style=\"text-align: right;\">\n",
       "      <th></th>\n",
       "      <th>order_id</th>\n",
       "      <th>order_date</th>\n",
       "      <th>on_truck_scan_date</th>\n",
       "      <th>ship_mode</th>\n",
       "      <th>delta_order_truck</th>\n",
       "    </tr>\n",
       "  </thead>\n",
       "  <tbody>\n",
       "    <tr>\n",
       "      <th>0</th>\n",
       "      <td>CA-2019-121755</td>\n",
       "      <td>2019-01-16</td>\n",
       "      <td>2019-01-23</td>\n",
       "      <td>Standard Processing</td>\n",
       "      <td>7.0</td>\n",
       "    </tr>\n",
       "    <tr>\n",
       "      <th>1</th>\n",
       "      <td>CA-2019-118255</td>\n",
       "      <td>2019-03-11</td>\n",
       "      <td>2019-03-13</td>\n",
       "      <td>Express</td>\n",
       "      <td>2.0</td>\n",
       "    </tr>\n",
       "    <tr>\n",
       "      <th>2</th>\n",
       "      <td>CA-2019-169194</td>\n",
       "      <td>2019-06-20</td>\n",
       "      <td>2019-06-26</td>\n",
       "      <td>Standard Processing</td>\n",
       "      <td>6.0</td>\n",
       "    </tr>\n",
       "    <tr>\n",
       "      <th>3</th>\n",
       "      <td>CA-2019-111682</td>\n",
       "      <td>2019-06-17</td>\n",
       "      <td>2019-06-19</td>\n",
       "      <td>Express</td>\n",
       "      <td>2.0</td>\n",
       "    </tr>\n",
       "    <tr>\n",
       "      <th>5</th>\n",
       "      <td>CA-2020-155558</td>\n",
       "      <td>2020-10-26</td>\n",
       "      <td>2020-11-04</td>\n",
       "      <td>Standard Processing</td>\n",
       "      <td>9.0</td>\n",
       "    </tr>\n",
       "    <tr>\n",
       "      <th>6</th>\n",
       "      <td>CA-2019-158568</td>\n",
       "      <td>2019-08-29</td>\n",
       "      <td>2019-09-04</td>\n",
       "      <td>Standard Processing</td>\n",
       "      <td>6.0</td>\n",
       "    </tr>\n",
       "    <tr>\n",
       "      <th>8</th>\n",
       "      <td>CA-2020-119004</td>\n",
       "      <td>2020-11-23</td>\n",
       "      <td>2020-12-02</td>\n",
       "      <td>Standard Processing</td>\n",
       "      <td>9.0</td>\n",
       "    </tr>\n",
       "    <tr>\n",
       "      <th>16</th>\n",
       "      <td>US-2020-100930</td>\n",
       "      <td>2020-04-07</td>\n",
       "      <td>2020-04-15</td>\n",
       "      <td>Standard Processing</td>\n",
       "      <td>8.0</td>\n",
       "    </tr>\n",
       "    <tr>\n",
       "      <th>17</th>\n",
       "      <td>CA-2019-145625</td>\n",
       "      <td>2019-09-11</td>\n",
       "      <td>2019-09-18</td>\n",
       "      <td>Standard Processing</td>\n",
       "      <td>7.0</td>\n",
       "    </tr>\n",
       "    <tr>\n",
       "      <th>18</th>\n",
       "      <td>CA-2020-163139</td>\n",
       "      <td>2020-12-01</td>\n",
       "      <td>2020-12-04</td>\n",
       "      <td>Standard Processing</td>\n",
       "      <td>3.0</td>\n",
       "    </tr>\n",
       "    <tr>\n",
       "      <th>22</th>\n",
       "      <td>CA-2019-110772</td>\n",
       "      <td>2019-11-20</td>\n",
       "      <td>2019-11-27</td>\n",
       "      <td>Standard Processing</td>\n",
       "      <td>7.0</td>\n",
       "    </tr>\n",
       "    <tr>\n",
       "      <th>24</th>\n",
       "      <td>CA-2019-162138</td>\n",
       "      <td>2019-04-23</td>\n",
       "      <td>2019-05-01</td>\n",
       "      <td>Standard Processing</td>\n",
       "      <td>8.0</td>\n",
       "    </tr>\n",
       "    <tr>\n",
       "      <th>25</th>\n",
       "      <td>CA-2019-129714</td>\n",
       "      <td>2019-09-01</td>\n",
       "      <td>2019-09-04</td>\n",
       "      <td>Express</td>\n",
       "      <td>3.0</td>\n",
       "    </tr>\n",
       "    <tr>\n",
       "      <th>29</th>\n",
       "      <td>CA-2020-101798</td>\n",
       "      <td>2020-12-11</td>\n",
       "      <td>2020-12-16</td>\n",
       "      <td>Standard Processing</td>\n",
       "      <td>5.0</td>\n",
       "    </tr>\n",
       "    <tr>\n",
       "      <th>30</th>\n",
       "      <td>CA-2019-108987</td>\n",
       "      <td>2019-09-08</td>\n",
       "      <td>2019-09-13</td>\n",
       "      <td>Standard Processing</td>\n",
       "      <td>5.0</td>\n",
       "    </tr>\n",
       "    <tr>\n",
       "      <th>31</th>\n",
       "      <td>CA-2020-117457</td>\n",
       "      <td>2020-12-08</td>\n",
       "      <td>2020-12-16</td>\n",
       "      <td>Standard Processing</td>\n",
       "      <td>8.0</td>\n",
       "    </tr>\n",
       "    <tr>\n",
       "      <th>33</th>\n",
       "      <td>US-2019-123750</td>\n",
       "      <td>2019-04-15</td>\n",
       "      <td>2019-04-24</td>\n",
       "      <td>Standard Processing</td>\n",
       "      <td>9.0</td>\n",
       "    </tr>\n",
       "    <tr>\n",
       "      <th>35</th>\n",
       "      <td>CA-2019-100153</td>\n",
       "      <td>2019-12-13</td>\n",
       "      <td>2019-12-18</td>\n",
       "      <td>Standard Processing</td>\n",
       "      <td>5.0</td>\n",
       "    </tr>\n",
       "    <tr>\n",
       "      <th>40</th>\n",
       "      <td>CA-2019-169166</td>\n",
       "      <td>2019-05-09</td>\n",
       "      <td>2019-05-15</td>\n",
       "      <td>Standard Processing</td>\n",
       "      <td>6.0</td>\n",
       "    </tr>\n",
       "    <tr>\n",
       "      <th>41</th>\n",
       "      <td>CA-2020-135307</td>\n",
       "      <td>2020-11-26</td>\n",
       "      <td>2020-11-27</td>\n",
       "      <td>Express</td>\n",
       "      <td>1.0</td>\n",
       "    </tr>\n",
       "  </tbody>\n",
       "</table>\n",
       "</div>"
      ],
      "text/plain": [
       "          order_id order_date on_truck_scan_date            ship_mode  \\\n",
       "0   CA-2019-121755 2019-01-16         2019-01-23  Standard Processing   \n",
       "1   CA-2019-118255 2019-03-11         2019-03-13              Express   \n",
       "2   CA-2019-169194 2019-06-20         2019-06-26  Standard Processing   \n",
       "3   CA-2019-111682 2019-06-17         2019-06-19              Express   \n",
       "5   CA-2020-155558 2020-10-26         2020-11-04  Standard Processing   \n",
       "6   CA-2019-158568 2019-08-29         2019-09-04  Standard Processing   \n",
       "8   CA-2020-119004 2020-11-23         2020-12-02  Standard Processing   \n",
       "16  US-2020-100930 2020-04-07         2020-04-15  Standard Processing   \n",
       "17  CA-2019-145625 2019-09-11         2019-09-18  Standard Processing   \n",
       "18  CA-2020-163139 2020-12-01         2020-12-04  Standard Processing   \n",
       "22  CA-2019-110772 2019-11-20         2019-11-27  Standard Processing   \n",
       "24  CA-2019-162138 2019-04-23         2019-05-01  Standard Processing   \n",
       "25  CA-2019-129714 2019-09-01         2019-09-04              Express   \n",
       "29  CA-2020-101798 2020-12-11         2020-12-16  Standard Processing   \n",
       "30  CA-2019-108987 2019-09-08         2019-09-13  Standard Processing   \n",
       "31  CA-2020-117457 2020-12-08         2020-12-16  Standard Processing   \n",
       "33  US-2019-123750 2019-04-15         2019-04-24  Standard Processing   \n",
       "35  CA-2019-100153 2019-12-13         2019-12-18  Standard Processing   \n",
       "40  CA-2019-169166 2019-05-09         2019-05-15  Standard Processing   \n",
       "41  CA-2020-135307 2020-11-26         2020-11-27              Express   \n",
       "\n",
       "    delta_order_truck  \n",
       "0                 7.0  \n",
       "1                 2.0  \n",
       "2                 6.0  \n",
       "3                 2.0  \n",
       "5                 9.0  \n",
       "6                 6.0  \n",
       "8                 9.0  \n",
       "16                8.0  \n",
       "17                7.0  \n",
       "18                3.0  \n",
       "22                7.0  \n",
       "24                8.0  \n",
       "25                3.0  \n",
       "29                5.0  \n",
       "30                5.0  \n",
       "31                8.0  \n",
       "33                9.0  \n",
       "35                5.0  \n",
       "40                6.0  \n",
       "41                1.0  "
      ]
     },
     "execution_count": 182,
     "metadata": {},
     "output_type": "execute_result"
    }
   ],
   "source": [
    "process_time.head(20)"
   ]
  },
  {
   "cell_type": "code",
   "execution_count": null,
   "metadata": {},
   "outputs": [
    {
     "data": {
      "text/plain": [
       "array(['Standard Processing', 'Express'], dtype=object)"
      ]
     },
     "execution_count": 37,
     "metadata": {},
     "output_type": "execute_result"
    }
   ],
   "source": [
    "process_time.ship_mode.unique()"
   ]
  },
  {
   "cell_type": "code",
   "execution_count": null,
   "metadata": {},
   "outputs": [],
   "source": [
    "process_time[\"order_weekday\"] = process_time[\"order_date\"].dt.dayofweek\n",
    "process_time[\"on_truck_weekday\"] = process_time[\"on_truck_scan_date\"].dt.dayofweek\n",
    "process_time[\"order_year\"] = process_time[\"order_date\"].dt.year"
   ]
  },
  {
   "cell_type": "markdown",
   "metadata": {},
   "source": [
    "### Calculation for 83% in slides"
   ]
  },
  {
   "cell_type": "code",
   "execution_count": null,
   "metadata": {},
   "outputs": [
    {
     "data": {
      "text/plain": [
       "array([ 7.,  2.,  6.,  9.,  8.,  3.,  5.,  1.,  4., 10.,  0., 11., 12.])"
      ]
     },
     "execution_count": 135,
     "metadata": {},
     "output_type": "execute_result"
    }
   ],
   "source": [
    "process_time.delta_order_truck.unique()"
   ]
  },
  {
   "cell_type": "code",
   "execution_count": null,
   "metadata": {},
   "outputs": [
    {
     "data": {
      "text/html": [
       "<div>\n",
       "<style scoped>\n",
       "    .dataframe tbody tr th:only-of-type {\n",
       "        vertical-align: middle;\n",
       "    }\n",
       "\n",
       "    .dataframe tbody tr th {\n",
       "        vertical-align: top;\n",
       "    }\n",
       "\n",
       "    .dataframe thead th {\n",
       "        text-align: right;\n",
       "    }\n",
       "</style>\n",
       "<table border=\"1\" class=\"dataframe\">\n",
       "  <thead>\n",
       "    <tr style=\"text-align: right;\">\n",
       "      <th></th>\n",
       "      <th>order_id</th>\n",
       "      <th>order_date</th>\n",
       "      <th>on_truck_scan_date</th>\n",
       "      <th>ship_mode</th>\n",
       "      <th>delta_order_truck</th>\n",
       "      <th>order_weekday</th>\n",
       "      <th>on_truck_weekday</th>\n",
       "      <th>order_year</th>\n",
       "    </tr>\n",
       "  </thead>\n",
       "  <tbody>\n",
       "    <tr>\n",
       "      <th>0</th>\n",
       "      <td>CA-2019-121755</td>\n",
       "      <td>2019-01-16</td>\n",
       "      <td>2019-01-23</td>\n",
       "      <td>Standard Processing</td>\n",
       "      <td>7.0</td>\n",
       "      <td>2</td>\n",
       "      <td>2</td>\n",
       "      <td>2019</td>\n",
       "    </tr>\n",
       "    <tr>\n",
       "      <th>1</th>\n",
       "      <td>CA-2019-118255</td>\n",
       "      <td>2019-03-11</td>\n",
       "      <td>2019-03-13</td>\n",
       "      <td>Express</td>\n",
       "      <td>2.0</td>\n",
       "      <td>0</td>\n",
       "      <td>2</td>\n",
       "      <td>2019</td>\n",
       "    </tr>\n",
       "    <tr>\n",
       "      <th>2</th>\n",
       "      <td>CA-2019-169194</td>\n",
       "      <td>2019-06-20</td>\n",
       "      <td>2019-06-26</td>\n",
       "      <td>Standard Processing</td>\n",
       "      <td>6.0</td>\n",
       "      <td>3</td>\n",
       "      <td>2</td>\n",
       "      <td>2019</td>\n",
       "    </tr>\n",
       "    <tr>\n",
       "      <th>3</th>\n",
       "      <td>CA-2019-111682</td>\n",
       "      <td>2019-06-17</td>\n",
       "      <td>2019-06-19</td>\n",
       "      <td>Express</td>\n",
       "      <td>2.0</td>\n",
       "      <td>0</td>\n",
       "      <td>2</td>\n",
       "      <td>2019</td>\n",
       "    </tr>\n",
       "    <tr>\n",
       "      <th>5</th>\n",
       "      <td>CA-2020-155558</td>\n",
       "      <td>2020-10-26</td>\n",
       "      <td>2020-11-04</td>\n",
       "      <td>Standard Processing</td>\n",
       "      <td>9.0</td>\n",
       "      <td>0</td>\n",
       "      <td>2</td>\n",
       "      <td>2020</td>\n",
       "    </tr>\n",
       "  </tbody>\n",
       "</table>\n",
       "</div>"
      ],
      "text/plain": [
       "         order_id order_date on_truck_scan_date            ship_mode  \\\n",
       "0  CA-2019-121755 2019-01-16         2019-01-23  Standard Processing   \n",
       "1  CA-2019-118255 2019-03-11         2019-03-13              Express   \n",
       "2  CA-2019-169194 2019-06-20         2019-06-26  Standard Processing   \n",
       "3  CA-2019-111682 2019-06-17         2019-06-19              Express   \n",
       "5  CA-2020-155558 2020-10-26         2020-11-04  Standard Processing   \n",
       "\n",
       "   delta_order_truck  order_weekday  on_truck_weekday  order_year  \n",
       "0                7.0              2                 2        2019  \n",
       "1                2.0              0                 2        2019  \n",
       "2                6.0              3                 2        2019  \n",
       "3                2.0              0                 2        2019  \n",
       "5                9.0              0                 2        2020  "
      ]
     },
     "execution_count": 184,
     "metadata": {},
     "output_type": "execute_result"
    }
   ],
   "source": [
    "process_time.head()"
   ]
  },
  {
   "cell_type": "code",
   "execution_count": null,
   "metadata": {},
   "outputs": [
    {
     "data": {
      "text/html": [
       "<div>\n",
       "<style scoped>\n",
       "    .dataframe tbody tr th:only-of-type {\n",
       "        vertical-align: middle;\n",
       "    }\n",
       "\n",
       "    .dataframe tbody tr th {\n",
       "        vertical-align: top;\n",
       "    }\n",
       "\n",
       "    .dataframe thead th {\n",
       "        text-align: right;\n",
       "    }\n",
       "</style>\n",
       "<table border=\"1\" class=\"dataframe\">\n",
       "  <thead>\n",
       "    <tr style=\"text-align: right;\">\n",
       "      <th></th>\n",
       "      <th>order_id</th>\n",
       "      <th>order_date</th>\n",
       "      <th>on_truck_scan_date</th>\n",
       "      <th>ship_mode</th>\n",
       "      <th>delta_order_truck</th>\n",
       "      <th>order_weekday</th>\n",
       "      <th>on_truck_weekday</th>\n",
       "      <th>order_year</th>\n",
       "    </tr>\n",
       "  </thead>\n",
       "  <tbody>\n",
       "    <tr>\n",
       "      <th>52</th>\n",
       "      <td>CA-2020-130351</td>\n",
       "      <td>2020-12-05</td>\n",
       "      <td>2020-12-11</td>\n",
       "      <td>Express</td>\n",
       "      <td>6.0</td>\n",
       "      <td>5</td>\n",
       "      <td>4</td>\n",
       "      <td>2020</td>\n",
       "    </tr>\n",
       "    <tr>\n",
       "      <th>116</th>\n",
       "      <td>US-2020-132444</td>\n",
       "      <td>2020-11-18</td>\n",
       "      <td>2020-11-23</td>\n",
       "      <td>Express</td>\n",
       "      <td>5.0</td>\n",
       "      <td>2</td>\n",
       "      <td>0</td>\n",
       "      <td>2020</td>\n",
       "    </tr>\n",
       "    <tr>\n",
       "      <th>131</th>\n",
       "      <td>US-2019-116729</td>\n",
       "      <td>2019-12-25</td>\n",
       "      <td>2019-12-30</td>\n",
       "      <td>Express</td>\n",
       "      <td>5.0</td>\n",
       "      <td>2</td>\n",
       "      <td>0</td>\n",
       "      <td>2019</td>\n",
       "    </tr>\n",
       "    <tr>\n",
       "      <th>182</th>\n",
       "      <td>CA-2019-114972</td>\n",
       "      <td>2019-11-03</td>\n",
       "      <td>2019-11-08</td>\n",
       "      <td>Express</td>\n",
       "      <td>5.0</td>\n",
       "      <td>6</td>\n",
       "      <td>4</td>\n",
       "      <td>2019</td>\n",
       "    </tr>\n",
       "    <tr>\n",
       "      <th>201</th>\n",
       "      <td>CA-2020-122707</td>\n",
       "      <td>2020-04-16</td>\n",
       "      <td>2020-04-20</td>\n",
       "      <td>Express</td>\n",
       "      <td>4.0</td>\n",
       "      <td>3</td>\n",
       "      <td>0</td>\n",
       "      <td>2020</td>\n",
       "    </tr>\n",
       "    <tr>\n",
       "      <th>...</th>\n",
       "      <td>...</td>\n",
       "      <td>...</td>\n",
       "      <td>...</td>\n",
       "      <td>...</td>\n",
       "      <td>...</td>\n",
       "      <td>...</td>\n",
       "      <td>...</td>\n",
       "      <td>...</td>\n",
       "    </tr>\n",
       "    <tr>\n",
       "      <th>4903</th>\n",
       "      <td>CA-2019-124793</td>\n",
       "      <td>2019-03-14</td>\n",
       "      <td>2019-03-18</td>\n",
       "      <td>Express</td>\n",
       "      <td>4.0</td>\n",
       "      <td>3</td>\n",
       "      <td>0</td>\n",
       "      <td>2019</td>\n",
       "    </tr>\n",
       "    <tr>\n",
       "      <th>4939</th>\n",
       "      <td>CA-2020-143756</td>\n",
       "      <td>2020-12-02</td>\n",
       "      <td>2020-12-07</td>\n",
       "      <td>Express</td>\n",
       "      <td>5.0</td>\n",
       "      <td>2</td>\n",
       "      <td>0</td>\n",
       "      <td>2020</td>\n",
       "    </tr>\n",
       "    <tr>\n",
       "      <th>4961</th>\n",
       "      <td>CA-2019-105746</td>\n",
       "      <td>2019-12-30</td>\n",
       "      <td>2020-01-03</td>\n",
       "      <td>Express</td>\n",
       "      <td>4.0</td>\n",
       "      <td>0</td>\n",
       "      <td>4</td>\n",
       "      <td>2019</td>\n",
       "    </tr>\n",
       "    <tr>\n",
       "      <th>4962</th>\n",
       "      <td>CA-2019-138597</td>\n",
       "      <td>2019-12-18</td>\n",
       "      <td>2019-12-23</td>\n",
       "      <td>Express</td>\n",
       "      <td>5.0</td>\n",
       "      <td>2</td>\n",
       "      <td>0</td>\n",
       "      <td>2019</td>\n",
       "    </tr>\n",
       "    <tr>\n",
       "      <th>4996</th>\n",
       "      <td>US-2020-165456</td>\n",
       "      <td>2020-11-30</td>\n",
       "      <td>2020-12-04</td>\n",
       "      <td>Express</td>\n",
       "      <td>4.0</td>\n",
       "      <td>0</td>\n",
       "      <td>4</td>\n",
       "      <td>2020</td>\n",
       "    </tr>\n",
       "  </tbody>\n",
       "</table>\n",
       "<p>207 rows × 8 columns</p>\n",
       "</div>"
      ],
      "text/plain": [
       "            order_id order_date on_truck_scan_date ship_mode  \\\n",
       "52    CA-2020-130351 2020-12-05         2020-12-11   Express   \n",
       "116   US-2020-132444 2020-11-18         2020-11-23   Express   \n",
       "131   US-2019-116729 2019-12-25         2019-12-30   Express   \n",
       "182   CA-2019-114972 2019-11-03         2019-11-08   Express   \n",
       "201   CA-2020-122707 2020-04-16         2020-04-20   Express   \n",
       "...              ...        ...                ...       ...   \n",
       "4903  CA-2019-124793 2019-03-14         2019-03-18   Express   \n",
       "4939  CA-2020-143756 2020-12-02         2020-12-07   Express   \n",
       "4961  CA-2019-105746 2019-12-30         2020-01-03   Express   \n",
       "4962  CA-2019-138597 2019-12-18         2019-12-23   Express   \n",
       "4996  US-2020-165456 2020-11-30         2020-12-04   Express   \n",
       "\n",
       "      delta_order_truck  order_weekday  on_truck_weekday  order_year  \n",
       "52                  6.0              5                 4        2020  \n",
       "116                 5.0              2                 0        2020  \n",
       "131                 5.0              2                 0        2019  \n",
       "182                 5.0              6                 4        2019  \n",
       "201                 4.0              3                 0        2020  \n",
       "...                 ...            ...               ...         ...  \n",
       "4903                4.0              3                 0        2019  \n",
       "4939                5.0              2                 0        2020  \n",
       "4961                4.0              0                 4        2019  \n",
       "4962                5.0              2                 0        2019  \n",
       "4996                4.0              0                 4        2020  \n",
       "\n",
       "[207 rows x 8 columns]"
      ]
     },
     "execution_count": 209,
     "metadata": {},
     "output_type": "execute_result"
    }
   ],
   "source": [
    "process_time.query(\"ship_mode == 'Express' and delta_order_truck > 3\")"
   ]
  },
  {
   "cell_type": "code",
   "execution_count": null,
   "metadata": {},
   "outputs": [
    {
     "data": {
      "text/html": [
       "<div>\n",
       "<style scoped>\n",
       "    .dataframe tbody tr th:only-of-type {\n",
       "        vertical-align: middle;\n",
       "    }\n",
       "\n",
       "    .dataframe tbody tr th {\n",
       "        vertical-align: top;\n",
       "    }\n",
       "\n",
       "    .dataframe thead th {\n",
       "        text-align: right;\n",
       "    }\n",
       "</style>\n",
       "<table border=\"1\" class=\"dataframe\">\n",
       "  <thead>\n",
       "    <tr style=\"text-align: right;\">\n",
       "      <th></th>\n",
       "      <th>order_id</th>\n",
       "      <th>order_date</th>\n",
       "      <th>on_truck_scan_date</th>\n",
       "      <th>ship_mode</th>\n",
       "      <th>delta_order_truck</th>\n",
       "      <th>order_weekday</th>\n",
       "      <th>on_truck_weekday</th>\n",
       "      <th>order_year</th>\n",
       "    </tr>\n",
       "  </thead>\n",
       "  <tbody>\n",
       "    <tr>\n",
       "      <th>16</th>\n",
       "      <td>US-2020-100930</td>\n",
       "      <td>2020-04-07</td>\n",
       "      <td>2020-04-15</td>\n",
       "      <td>Standard Processing</td>\n",
       "      <td>8.0</td>\n",
       "      <td>1</td>\n",
       "      <td>2</td>\n",
       "      <td>2020</td>\n",
       "    </tr>\n",
       "    <tr>\n",
       "      <th>24</th>\n",
       "      <td>CA-2019-162138</td>\n",
       "      <td>2019-04-23</td>\n",
       "      <td>2019-05-01</td>\n",
       "      <td>Standard Processing</td>\n",
       "      <td>8.0</td>\n",
       "      <td>1</td>\n",
       "      <td>2</td>\n",
       "      <td>2019</td>\n",
       "    </tr>\n",
       "    <tr>\n",
       "      <th>31</th>\n",
       "      <td>CA-2020-117457</td>\n",
       "      <td>2020-12-08</td>\n",
       "      <td>2020-12-16</td>\n",
       "      <td>Standard Processing</td>\n",
       "      <td>8.0</td>\n",
       "      <td>1</td>\n",
       "      <td>2</td>\n",
       "      <td>2020</td>\n",
       "    </tr>\n",
       "    <tr>\n",
       "      <th>58</th>\n",
       "      <td>US-2020-100048</td>\n",
       "      <td>2020-05-19</td>\n",
       "      <td>2020-05-27</td>\n",
       "      <td>Standard Processing</td>\n",
       "      <td>8.0</td>\n",
       "      <td>1</td>\n",
       "      <td>2</td>\n",
       "      <td>2020</td>\n",
       "    </tr>\n",
       "    <tr>\n",
       "      <th>59</th>\n",
       "      <td>CA-2020-131954</td>\n",
       "      <td>2020-01-21</td>\n",
       "      <td>2020-01-29</td>\n",
       "      <td>Standard Processing</td>\n",
       "      <td>8.0</td>\n",
       "      <td>1</td>\n",
       "      <td>2</td>\n",
       "      <td>2020</td>\n",
       "    </tr>\n",
       "    <tr>\n",
       "      <th>...</th>\n",
       "      <td>...</td>\n",
       "      <td>...</td>\n",
       "      <td>...</td>\n",
       "      <td>...</td>\n",
       "      <td>...</td>\n",
       "      <td>...</td>\n",
       "      <td>...</td>\n",
       "      <td>...</td>\n",
       "    </tr>\n",
       "    <tr>\n",
       "      <th>4954</th>\n",
       "      <td>CA-2020-100412</td>\n",
       "      <td>2020-12-22</td>\n",
       "      <td>2020-12-30</td>\n",
       "      <td>Standard Processing</td>\n",
       "      <td>8.0</td>\n",
       "      <td>1</td>\n",
       "      <td>2</td>\n",
       "      <td>2020</td>\n",
       "    </tr>\n",
       "    <tr>\n",
       "      <th>4971</th>\n",
       "      <td>US-2020-167570</td>\n",
       "      <td>2020-12-08</td>\n",
       "      <td>2020-12-16</td>\n",
       "      <td>Standard Processing</td>\n",
       "      <td>8.0</td>\n",
       "      <td>1</td>\n",
       "      <td>2</td>\n",
       "      <td>2020</td>\n",
       "    </tr>\n",
       "    <tr>\n",
       "      <th>4981</th>\n",
       "      <td>CA-2020-137624</td>\n",
       "      <td>2020-11-10</td>\n",
       "      <td>2020-11-18</td>\n",
       "      <td>Standard Processing</td>\n",
       "      <td>8.0</td>\n",
       "      <td>1</td>\n",
       "      <td>2</td>\n",
       "      <td>2020</td>\n",
       "    </tr>\n",
       "    <tr>\n",
       "      <th>4982</th>\n",
       "      <td>CA-2019-123540</td>\n",
       "      <td>2019-04-02</td>\n",
       "      <td>2019-04-10</td>\n",
       "      <td>Standard Processing</td>\n",
       "      <td>8.0</td>\n",
       "      <td>1</td>\n",
       "      <td>2</td>\n",
       "      <td>2019</td>\n",
       "    </tr>\n",
       "    <tr>\n",
       "      <th>4989</th>\n",
       "      <td>CA-2020-122308</td>\n",
       "      <td>2020-03-24</td>\n",
       "      <td>2020-04-01</td>\n",
       "      <td>Standard Processing</td>\n",
       "      <td>8.0</td>\n",
       "      <td>1</td>\n",
       "      <td>2</td>\n",
       "      <td>2020</td>\n",
       "    </tr>\n",
       "  </tbody>\n",
       "</table>\n",
       "<p>363 rows × 8 columns</p>\n",
       "</div>"
      ],
      "text/plain": [
       "            order_id order_date on_truck_scan_date            ship_mode  \\\n",
       "16    US-2020-100930 2020-04-07         2020-04-15  Standard Processing   \n",
       "24    CA-2019-162138 2019-04-23         2019-05-01  Standard Processing   \n",
       "31    CA-2020-117457 2020-12-08         2020-12-16  Standard Processing   \n",
       "58    US-2020-100048 2020-05-19         2020-05-27  Standard Processing   \n",
       "59    CA-2020-131954 2020-01-21         2020-01-29  Standard Processing   \n",
       "...              ...        ...                ...                  ...   \n",
       "4954  CA-2020-100412 2020-12-22         2020-12-30  Standard Processing   \n",
       "4971  US-2020-167570 2020-12-08         2020-12-16  Standard Processing   \n",
       "4981  CA-2020-137624 2020-11-10         2020-11-18  Standard Processing   \n",
       "4982  CA-2019-123540 2019-04-02         2019-04-10  Standard Processing   \n",
       "4989  CA-2020-122308 2020-03-24         2020-04-01  Standard Processing   \n",
       "\n",
       "      delta_order_truck  order_weekday  on_truck_weekday  order_year  \n",
       "16                  8.0              1                 2        2020  \n",
       "24                  8.0              1                 2        2019  \n",
       "31                  8.0              1                 2        2020  \n",
       "58                  8.0              1                 2        2020  \n",
       "59                  8.0              1                 2        2020  \n",
       "...                 ...            ...               ...         ...  \n",
       "4954                8.0              1                 2        2020  \n",
       "4971                8.0              1                 2        2020  \n",
       "4981                8.0              1                 2        2020  \n",
       "4982                8.0              1                 2        2019  \n",
       "4989                8.0              1                 2        2020  \n",
       "\n",
       "[363 rows x 8 columns]"
      ]
     },
     "execution_count": 207,
     "metadata": {},
     "output_type": "execute_result"
    }
   ],
   "source": [
    "x = process_time.query(\"order_weekday == 1 and delta_order_truck > 3\")\n",
    "x"
   ]
  },
  {
   "cell_type": "markdown",
   "metadata": {},
   "source": [
    "# Visualisierung"
   ]
  },
  {
   "cell_type": "code",
   "execution_count": null,
   "metadata": {},
   "outputs": [],
   "source": [
    "import matplotlib \n",
    "import matplotlib.pyplot as plt\n",
    "import seaborn as sns"
   ]
  },
  {
   "cell_type": "code",
   "execution_count": null,
   "metadata": {},
   "outputs": [
    {
     "data": {
      "image/png": "[encoded data removed]",
      "text/plain": [
       "<Figure size 1440x360 with 2 Axes>"
      ]
     },
     "metadata": {
      "needs_background": "light"
     },
     "output_type": "display_data"
    }
   ],
   "source": [
    "fig, ax = plt.subplots(1,2, figsize=(20,5))\n",
    "fig.suptitle(\"Order on Mondays (assumed delay until truck scan = 4_std / 2_exp)\", fontsize=15)\n",
    "plt.subplots_adjust(top=0.85)\n",
    "\n",
    "fig = sns.countplot(x=process_time.query('order_weekday == 0 and order_year == 2019')[\"delta_order_truck\"], hue=process_time[\"ship_mode\"], ax=ax[0], order=[0,1,2,3,4,5,6,7,8,9,10,11,12])\n",
    "fig.set_title(\"2019\")\n",
    "fig.set_xlabel(\"time between orders & truck scan\")\n",
    "fig.set_ylim(0,125)\n",
    "\n",
    "fig = sns.countplot(x=process_time.query('order_weekday == 0 and order_year == 2020')[\"delta_order_truck\"], hue=process_time[\"ship_mode\"],ax=ax[1], order=[0,1,2,3,4,5,6,7,8,9,10,11,12])\n",
    "fig.set_title(\"2020\")\n",
    "fig.set_xlabel(\"time between orders & truck scan\")\n",
    "fig.set_ylim(0,125);"
   ]
  },
  {
   "cell_type": "code",
   "execution_count": null,
   "metadata": {},
   "outputs": [
    {
     "name": "stderr",
     "output_type": "stream",
     "text": [
      "No artists with labels found to put in legend.  Note that artists whose label start with an underscore are ignored when legend() is called with no argument.\n"
     ]
    },
    {
     "data": {
      "image/png": "[encoded data removed]",
      "text/plain": [
       "<Figure size 1440x360 with 2 Axes>"
      ]
     },
     "metadata": {
      "needs_background": "light"
     },
     "output_type": "display_data"
    }
   ],
   "source": [
    "fig, ax = plt.subplots(1,2, figsize=(20,5))\n",
    "fig.suptitle(\"Order on Tuesdays (assumed delay until truck scan = 3_std / 3_exp)\", fontsize=15)\n",
    "plt.subplots_adjust(top=0.85)\n",
    "plt.legend(loc='upper left')\n",
    "\n",
    "fig = sns.countplot(x=process_time.query('order_weekday == 1 and order_year == 2019')[\"delta_order_truck\"],\n",
    "                    hue=process_time[\"ship_mode\"], \n",
    "                    ax=ax[0], \n",
    "                    order=[0,1,2,3,4,5,6,7,8,9,10,11,12])\n",
    "fig.set_title(\"2019\")\n",
    "fig.set_xlabel(\"time between orders & truck scan\")\n",
    "fig.set_ylim(0,200)\n",
    "\n",
    "\n",
    "fig = sns.countplot(x=process_time.query('order_weekday == 1 and order_year == 2020')[\"delta_order_truck\"], hue=process_time[\"ship_mode\"],ax=ax[1], order=[0,1,2,3,4,5,6,7,8,9,10,11,12])\n",
    "fig.set_title(\"2020\")\n",
    "fig.set_xlabel(\"time between orders & truck scan\")\n",
    "fig.set_ylim(0,200);"
   ]
  },
  {
   "cell_type": "code",
   "execution_count": null,
   "metadata": {},
   "outputs": [
    {
     "data": {
      "image/png": "[encoded data removed]",
      "text/plain": [
       "<Figure size 1440x360 with 2 Axes>"
      ]
     },
     "metadata": {
      "needs_background": "light"
     },
     "output_type": "display_data"
    }
   ],
   "source": [
    "fig, ax = plt.subplots(1,2, figsize=(20,5))\n",
    "fig.suptitle(\"Order on Wednesdays (assumed delay until truck scan = 5_std / 2_exp)\", fontsize=15)\n",
    "plt.subplots_adjust(top=0.85)\n",
    "\n",
    "fig = sns.countplot(x=process_time.query('order_weekday == 2 and order_year == 2019')[\"delta_order_truck\"], hue=process_time[\"ship_mode\"],ax=ax[0],order=[0,1,2,3,4,5,6,7,8,9,10,11,12])\n",
    "fig.set_title(\"2019\")\n",
    "sns.move_legend(fig,\"upper left\")\n",
    "fig.set_xlabel(\"time between orders & truck scan\")\n",
    "fig.set_ylim(0,200)\n",
    "\n",
    "fig = sns.countplot(x=process_time.query('order_weekday == 2 and order_year == 2020')[\"delta_order_truck\"], hue=process_time[\"ship_mode\"],ax=ax[1],order=[0,1,2,3,4,5,6,7,8,9,10,11,12])\n",
    "fig.set_title(\"2020\")\n",
    "sns.move_legend(fig,\"upper left\")\n",
    "fig.set_xlabel(\"time between orders & truck scan\")\n",
    "fig.set_ylim(0,200);"
   ]
  },
  {
   "cell_type": "code",
   "execution_count": null,
   "metadata": {},
   "outputs": [
    {
     "data": {
      "image/png": "[encoded data removed]",
      "text/plain": [
       "<Figure size 1440x360 with 2 Axes>"
      ]
     },
     "metadata": {
      "needs_background": "light"
     },
     "output_type": "display_data"
    }
   ],
   "source": [
    "fig, ax = plt.subplots(1,2, figsize=(20,5))\n",
    "fig.suptitle(\"Order on Thursdays (assumed delay until truck scan = 6_std / 4_exp)\", fontsize=15)\n",
    "plt.subplots_adjust(top=0.85)\n",
    "\n",
    "fig = sns.countplot(x=process_time.query('order_weekday == 3 and order_year == 2019')[\"delta_order_truck\"], hue=process_time[\"ship_mode\"],ax=ax[0], order=[0,1,2,3,4,5,6,7,8,9,10,11,12])\n",
    "fig.set_title(\"2019\")\n",
    "sns.move_legend(fig,\"upper left\")\n",
    "fig.set_xlabel(\"time between orders & truck scan\")\n",
    "fig.set_ylim(0,200)\n",
    "\n",
    "fig = sns.countplot(x=process_time.query('order_weekday == 3 and order_year == 2020')[\"delta_order_truck\"], hue=process_time[\"ship_mode\"],ax=ax[1],order=[0,1,2,3,4,5,6,7,8,9,10,11,12])\n",
    "fig.set_title(\"2020\")\n",
    "sns.move_legend(fig,\"upper left\")\n",
    "fig.set_xlabel(\"time between orders & truck scan\")\n",
    "fig.set_ylim(0,200);"
   ]
  },
  {
   "cell_type": "code",
   "execution_count": null,
   "metadata": {},
   "outputs": [
    {
     "data": {
      "image/png": "[encoded data removed]",
      "text/plain": [
       "<Figure size 1440x360 with 2 Axes>"
      ]
     },
     "metadata": {
      "needs_background": "light"
     },
     "output_type": "display_data"
    }
   ],
   "source": [
    "fig, ax = plt.subplots(1,2, figsize=(20,5))\n",
    "fig.suptitle(\"Order on Fridays (assumed delay until truck scan = 5_std / 5_exp)\", fontsize=15)\n",
    "\n",
    "fig = sns.countplot(x=process_time.query('order_weekday == 4 and order_year == 2019')[\"delta_order_truck\"],hue=process_time[\"ship_mode\"], ax=ax[0],order=[0,1,2,3,4,5,6,7,8,9,10,11,12])\n",
    "fig.set_title(\"2019\")\n",
    "sns.move_legend(fig,\"upper left\")\n",
    "fig.set_xlabel(\"time between orders & truck scan\")\n",
    "fig.set_ylim(0,125)\n",
    "\n",
    "fig = sns.countplot(x=process_time.query('order_weekday == 4 and order_year == 2020')[\"delta_order_truck\"],hue=process_time[\"ship_mode\"], ax=ax[1],order=[0,1,2,3,4,5,6,7,8,9,10,11,12])\n",
    "fig.set_title(\"2020\")\n",
    "sns.move_legend(fig,\"upper left\")\n",
    "fig.set_xlabel(\"time between orders & truck scan\")\n",
    "fig.set_ylim(0,125);"
   ]
  },
  {
   "cell_type": "code",
   "execution_count": null,
   "metadata": {},
   "outputs": [
    {
     "data": {
      "image/png": "[encoded data removed]",
      "text/plain": [
       "<Figure size 1440x360 with 2 Axes>"
      ]
     },
     "metadata": {
      "needs_background": "light"
     },
     "output_type": "display_data"
    }
   ],
   "source": [
    "fig, ax = plt.subplots(1,2, figsize=(20,5))\n",
    "fig.suptitle(\"Order on Saturdays (assumed delay until truck scan = 5_std / 4_exp)\", fontsize=15)\n",
    "\n",
    "fig = sns.countplot(x=process_time.query('order_weekday == 5 and order_year == 2019')[\"delta_order_truck\"], hue=process_time[\"ship_mode\"], ax=ax[0],order=[0,1,2,3,4,5,6,7,8,9,10,11,12])\n",
    "fig.set_title(\"2019\")\n",
    "sns.move_legend(fig,\"upper left\")\n",
    "fig.set_xlabel(\"time between orders & truck scan\")\n",
    "fig.set_ylim(0,60)\n",
    "\n",
    "fig = sns.countplot(x=process_time.query('order_weekday == 5 and order_year == 2020')[\"delta_order_truck\"], hue=process_time[\"ship_mode\"], ax=ax[1],order=[0,1,2,3,4,5,6,7,8,9,10,11,12])\n",
    "fig.set_title(\"2020\")\n",
    "sns.move_legend(fig,\"upper left\")\n",
    "fig.set_xlabel(\"time between orders & truck scan\")\n",
    "fig.set_ylim(0,60);"
   ]
  },
  {
   "cell_type": "code",
   "execution_count": null,
   "metadata": {},
   "outputs": [
    {
     "data": {
      "image/png": "[encoded data removed]",
      "text/plain": [
       "<Figure size 1440x360 with 2 Axes>"
      ]
     },
     "metadata": {
      "needs_background": "light"
     },
     "output_type": "display_data"
    }
   ],
   "source": [
    "fig, ax = plt.subplots(1,2, figsize=(20,5))\n",
    "fig.suptitle(\"Order on Sundays (assumed delay until truck scan = 3_std / 3_exp)\", fontsize=15)\n",
    "\n",
    "fig = sns.countplot(x=process_time.query('order_weekday == 6 and order_year == 2019')[\"delta_order_truck\"], hue=process_time[\"ship_mode\"], ax=ax[0],order=[0,1,2,3,4,5,6,7,8,9,10,11,12])\n",
    "fig.set_title(\"2019\")\n",
    "sns.move_legend(fig,\"upper left\")\n",
    "fig.set_xlabel(\"time between orders & truck scan\")\n",
    "fig.set_ylim(0,85)\n",
    "\n",
    "fig = sns.countplot(x=process_time.query('order_weekday == 6 and order_year == 2020')[\"delta_order_truck\"], hue=process_time[\"ship_mode\"], ax=ax[1],order=[0,1,2,3,4,5,6,7,8,9,10,11,12])\n",
    "fig.set_title(\"2020\")\n",
    "sns.move_legend(fig,\"upper left\")\n",
    "fig.set_xlabel(\"time between orders & truck scan\")\n",
    "fig.set_ylim(0,85);"
   ]
  },
  {
   "cell_type": "code",
   "execution_count": null,
   "metadata": {},
   "outputs": [],
   "source": [
    "#years = sorted(process_time.order_year.unique())\n",
    "#f1 = sns.catplot(x=\"order_day\", col=\"order_year\", kind=\"count\", col_wrap=4, data=process_time., hue=\"ship_mode\", palette=\"pastel\")\n",
    "#f1.set_xticklabels(labels=[\"Monday\", \"Tuesday\", \"Wednesday\", \"Thursday\", \"Friday\", \"Saturday\", \"Sunday\"], rotation=90);"
   ]
  },
  {
   "cell_type": "code",
   "execution_count": null,
   "metadata": {},
   "outputs": [
    {
     "data": {
      "image/png": "[encoded data removed]",
      "text/plain": [
       "<Figure size 1080x2520 with 14 Axes>"
      ]
     },
     "metadata": {
      "needs_background": "light"
     },
     "output_type": "display_data"
    }
   ],
   "source": [
    "fig, ax = plt.subplots(7,2, figsize=(15,35))\n",
    "#fig.tight_layout(h_pad=6)\n",
    "fig.suptitle(\"Time between orders & truck time\", fontsize=15)\n",
    "#plt.subplots_adjust(wspace=0)\n",
    "#plt.subplots_adjust(hspace=0)\n",
    "plt.subplots_adjust(top=0.95)\n",
    "\n",
    "fig_1 = sns.countplot(x=process_time.query('order_weekday == 0 and order_year == 2019')[\"delta_order_truck\"], ax=ax[0,0])\n",
    "fig_1.set_title(\"2019\")\n",
    "fig_1.set_xlabel(\"Mondays\")\n",
    "\n",
    "fig_2 =  sns.countplot(x=process_time.query('order_weekday == 0 and order_year == 2020')[\"delta_order_truck\"], ax=ax[0,1])\n",
    "fig_2.set_title(\"2020\")\n",
    "fig_2.set_xlabel(\"Mondays\")\n",
    "\n",
    "fig_3 = sns.countplot(x=process_time.query('order_weekday == 1 and order_year == 2019')[\"delta_order_truck\"], ax=ax[1,0])\n",
    "#fig_3.set_title(\"2019\")\n",
    "fig_3.set_xlabel(\"Tuesdays\")\n",
    "\n",
    "fig_4 =  sns.countplot(x=process_time.query('order_weekday == 1 and order_year == 2020')[\"delta_order_truck\"], ax=ax[1,1])\n",
    "#fig_4.set_title(\"2020\")\n",
    "fig_4.set_xlabel(\"Tuesdays\");\n",
    "\n",
    "fig_5 = sns.countplot(x=process_time.query('order_weekday == 2 and order_year == 2019')[\"delta_order_truck\"], ax=ax[2,0])\n",
    "#fig_5.set_title(\"2019\")\n",
    "fig_5.set_xlabel(\"Wednesdays\")\n",
    "\n",
    "fig_6 =  sns.countplot(x=process_time.query('order_weekday == 2 and order_year == 2020')[\"delta_order_truck\"], ax=ax[2,1])\n",
    "#fig_6.set_title(\"2020\")\n",
    "fig_6.set_xlabel(\"Wednesdays\");\n",
    "\n",
    "fig_7 = sns.countplot(x=process_time.query('order_weekday == 3 and order_year == 2019')[\"delta_order_truck\"], ax=ax[3,0])\n",
    "#fig_7.set_title(\"2019\")\n",
    "fig_7.set_xlabel(\"Thursdays\")\n",
    "\n",
    "fig_8 =  sns.countplot(x=process_time.query('order_weekday == 3 and order_year == 2020')[\"delta_order_truck\"], ax=ax[3,1])\n",
    "#fig_8.set_title(\"2020\")\n",
    "fig_8.set_xlabel(\"Thursdays\");\n",
    "\n",
    "fig_9 = sns.countplot(x=process_time.query('order_weekday == 4 and order_year == 2019')[\"delta_order_truck\"], ax=ax[4,0])\n",
    "#fig_9.set_title(\"2019\")\n",
    "fig_9.set_xlabel(\"Fridays\")\n",
    "\n",
    "fig_10 =  sns.countplot(x=process_time.query('order_weekday == 4 and order_year == 2020')[\"delta_order_truck\"], ax=ax[4,1])\n",
    "#fig_10.set_title(\"2020\")\n",
    "fig_10.set_xlabel(\"Fridays\");\n",
    "\n",
    "fig_11 = sns.countplot(x=process_time.query('order_weekday == 5 and order_year == 2019')[\"delta_order_truck\"], ax=ax[5,0])\n",
    "fig_11.set_xlabel(\"Fridays\")\n",
    "\n",
    "fig_12 =  sns.countplot(x=process_time.query('order_weekday == 5 and order_year == 2020')[\"delta_order_truck\"], ax=ax[5,1])\n",
    "fig_12.set_xlabel(\"Fridays\");\n",
    "\n",
    "fig_13 = sns.countplot(x=process_time.query('order_weekday == 6 and order_year == 2019')[\"delta_order_truck\"], ax=ax[6,0])\n",
    "fig_13.set_xlabel(\"Fridays\")\n",
    "\n",
    "fig_14 =  sns.countplot(x=process_time.query('order_weekday == 6 and order_year == 2020')[\"delta_order_truck\"], ax=ax[6,1])\n",
    "fig_14.set_xlabel(\"Fridays\");"
   ]
  },
  {
   "cell_type": "markdown",
   "metadata": {},
   "source": [
    "# 1. try to find the bad product\n",
    "### results aren't sufficient because used DataFrame does not have all possible Product_IDs in it"
   ]
  },
  {
   "cell_type": "code",
   "execution_count": null,
   "metadata": {},
   "outputs": [],
   "source": [
    "bad_product = orders_in2.merge(truck, how='left', on='order_id')"
   ]
  },
  {
   "cell_type": "code",
   "execution_count": null,
   "metadata": {},
   "outputs": [],
   "source": [
    "bad_product.dropna(axis=0,subset=\"on_truck_scan_date\", inplace=True)"
   ]
  },
  {
   "cell_type": "code",
   "execution_count": null,
   "metadata": {},
   "outputs": [],
   "source": [
    "bad_product[\"order_weekday\"] = bad_product[\"order_date\"].dt.dayofweek\n",
    "bad_product[\"on_truck_weekday\"] = bad_product[\"on_truck_scan_date\"].dt.dayofweek\n",
    "bad_product[\"order_year\"] = bad_product[\"order_date\"].dt.year"
   ]
  },
  {
   "cell_type": "code",
   "execution_count": null,
   "metadata": {},
   "outputs": [
    {
     "name": "stdout",
     "output_type": "stream",
     "text": [
      "<class 'pandas.core.frame.DataFrame'>\n",
      "Int64Index: 3002 entries, 0 to 5008\n",
      "Data columns (total 9 columns):\n",
      " #   Column              Non-Null Count  Dtype         \n",
      "---  ------              --------------  -----         \n",
      " 0   order_id            3002 non-null   object        \n",
      " 1   order_date          3002 non-null   datetime64[ns]\n",
      " 2   category            3002 non-null   object        \n",
      " 3   product_id          3002 non-null   object        \n",
      " 4   on_truck_scan_date  3002 non-null   datetime64[ns]\n",
      " 5   ship_mode           3002 non-null   object        \n",
      " 6   order_weekday       3002 non-null   int64         \n",
      " 7   on_truck_weekday    3002 non-null   int64         \n",
      " 8   order_year          3002 non-null   int64         \n",
      "dtypes: datetime64[ns](2), int64(3), object(4)\n",
      "memory usage: 234.5+ KB\n"
     ]
    }
   ],
   "source": [
    "bad_product.info()"
   ]
  },
  {
   "cell_type": "code",
   "execution_count": null,
   "metadata": {},
   "outputs": [],
   "source": [
    "bad_product[\"delta_order_truck\"] = bad_product[\"on_truck_scan_date\"] - bad_product[\"order_date\"]\n",
    "bad_product['delta_order_truck'] = bad_product['delta_order_truck'].astype('timedelta64[D]')"
   ]
  },
  {
   "cell_type": "code",
   "execution_count": null,
   "metadata": {},
   "outputs": [
    {
     "data": {
      "text/html": [
       "<div>\n",
       "<style scoped>\n",
       "    .dataframe tbody tr th:only-of-type {\n",
       "        vertical-align: middle;\n",
       "    }\n",
       "\n",
       "    .dataframe tbody tr th {\n",
       "        vertical-align: top;\n",
       "    }\n",
       "\n",
       "    .dataframe thead th {\n",
       "        text-align: right;\n",
       "    }\n",
       "</style>\n",
       "<table border=\"1\" class=\"dataframe\">\n",
       "  <thead>\n",
       "    <tr style=\"text-align: right;\">\n",
       "      <th></th>\n",
       "      <th>order_id</th>\n",
       "      <th>order_date</th>\n",
       "      <th>category</th>\n",
       "      <th>product_id</th>\n",
       "      <th>on_truck_scan_date</th>\n",
       "      <th>ship_mode</th>\n",
       "      <th>order_weekday</th>\n",
       "      <th>on_truck_weekday</th>\n",
       "      <th>order_year</th>\n",
       "      <th>delta_order_truck</th>\n",
       "    </tr>\n",
       "  </thead>\n",
       "  <tbody>\n",
       "    <tr>\n",
       "      <th>0</th>\n",
       "      <td>CA-2019-121755</td>\n",
       "      <td>2019-01-16</td>\n",
       "      <td>Special Projects Muesil</td>\n",
       "      <td>TEC-AC-10003027</td>\n",
       "      <td>2019-01-23</td>\n",
       "      <td>Standard Processing</td>\n",
       "      <td>2</td>\n",
       "      <td>2</td>\n",
       "      <td>2019</td>\n",
       "      <td>7.0</td>\n",
       "    </tr>\n",
       "    <tr>\n",
       "      <th>1</th>\n",
       "      <td>CA-2019-118255</td>\n",
       "      <td>2019-03-11</td>\n",
       "      <td>Special Projects Muesil</td>\n",
       "      <td>TEC-AC-10000171</td>\n",
       "      <td>2019-03-13</td>\n",
       "      <td>Express</td>\n",
       "      <td>0</td>\n",
       "      <td>2</td>\n",
       "      <td>2019</td>\n",
       "      <td>2.0</td>\n",
       "    </tr>\n",
       "    <tr>\n",
       "      <th>2</th>\n",
       "      <td>CA-2019-169194</td>\n",
       "      <td>2019-06-20</td>\n",
       "      <td>Special Projects Muesil</td>\n",
       "      <td>TEC-AC-10002167</td>\n",
       "      <td>2019-06-26</td>\n",
       "      <td>Standard Processing</td>\n",
       "      <td>3</td>\n",
       "      <td>2</td>\n",
       "      <td>2019</td>\n",
       "      <td>6.0</td>\n",
       "    </tr>\n",
       "    <tr>\n",
       "      <th>3</th>\n",
       "      <td>CA-2019-111682</td>\n",
       "      <td>2019-06-17</td>\n",
       "      <td>Special Projects Muesil</td>\n",
       "      <td>TEC-AC-10002167</td>\n",
       "      <td>2019-06-19</td>\n",
       "      <td>Express</td>\n",
       "      <td>0</td>\n",
       "      <td>2</td>\n",
       "      <td>2019</td>\n",
       "      <td>2.0</td>\n",
       "    </tr>\n",
       "    <tr>\n",
       "      <th>5</th>\n",
       "      <td>CA-2020-155558</td>\n",
       "      <td>2020-10-26</td>\n",
       "      <td>Special Projects Muesil</td>\n",
       "      <td>TEC-AC-10001998</td>\n",
       "      <td>2020-11-04</td>\n",
       "      <td>Standard Processing</td>\n",
       "      <td>0</td>\n",
       "      <td>2</td>\n",
       "      <td>2020</td>\n",
       "      <td>9.0</td>\n",
       "    </tr>\n",
       "  </tbody>\n",
       "</table>\n",
       "</div>"
      ],
      "text/plain": [
       "         order_id order_date                 category       product_id  \\\n",
       "0  CA-2019-121755 2019-01-16  Special Projects Muesil  TEC-AC-10003027   \n",
       "1  CA-2019-118255 2019-03-11  Special Projects Muesil  TEC-AC-10000171   \n",
       "2  CA-2019-169194 2019-06-20  Special Projects Muesil  TEC-AC-10002167   \n",
       "3  CA-2019-111682 2019-06-17  Special Projects Muesil  TEC-AC-10002167   \n",
       "5  CA-2020-155558 2020-10-26  Special Projects Muesil  TEC-AC-10001998   \n",
       "\n",
       "  on_truck_scan_date            ship_mode  order_weekday  on_truck_weekday  \\\n",
       "0         2019-01-23  Standard Processing              2                 2   \n",
       "1         2019-03-13              Express              0                 2   \n",
       "2         2019-06-26  Standard Processing              3                 2   \n",
       "3         2019-06-19              Express              0                 2   \n",
       "5         2020-11-04  Standard Processing              0                 2   \n",
       "\n",
       "   order_year  delta_order_truck  \n",
       "0        2019                7.0  \n",
       "1        2019                2.0  \n",
       "2        2019                6.0  \n",
       "3        2019                2.0  \n",
       "5        2020                9.0  "
      ]
     },
     "execution_count": 56,
     "metadata": {},
     "output_type": "execute_result"
    }
   ],
   "source": [
    "bad_product.head()"
   ]
  },
  {
   "cell_type": "code",
   "execution_count": null,
   "metadata": {},
   "outputs": [
    {
     "data": {
      "text/plain": [
       "array(['TEC-AC-10003027', 'TEC-AC-10000171', 'TEC-AC-10002167', ...,\n",
       "       'FUR-CH-10004698', 'FUR-CH-10000665', 'FUR-CH-10003981'],\n",
       "      dtype=object)"
      ]
     },
     "execution_count": 57,
     "metadata": {},
     "output_type": "execute_result"
    }
   ],
   "source": [
    "bad_product.product_id.unique()"
   ]
  },
  {
   "cell_type": "code",
   "execution_count": null,
   "metadata": {},
   "outputs": [
    {
     "data": {
      "text/plain": [
       "'TEC-PH-10004977'"
      ]
     },
     "execution_count": 58,
     "metadata": {},
     "output_type": "execute_result"
    }
   ],
   "source": [
    "bad_product.product_id.max()"
   ]
  },
  {
   "cell_type": "code",
   "execution_count": null,
   "metadata": {},
   "outputs": [
    {
     "data": {
      "text/html": [
       "<div>\n",
       "<style scoped>\n",
       "    .dataframe tbody tr th:only-of-type {\n",
       "        vertical-align: middle;\n",
       "    }\n",
       "\n",
       "    .dataframe tbody tr th {\n",
       "        vertical-align: top;\n",
       "    }\n",
       "\n",
       "    .dataframe thead th {\n",
       "        text-align: right;\n",
       "    }\n",
       "</style>\n",
       "<table border=\"1\" class=\"dataframe\">\n",
       "  <thead>\n",
       "    <tr style=\"text-align: right;\">\n",
       "      <th></th>\n",
       "      <th>order_id</th>\n",
       "      <th>order_date</th>\n",
       "      <th>category</th>\n",
       "      <th>product_id</th>\n",
       "      <th>on_truck_scan_date</th>\n",
       "      <th>ship_mode</th>\n",
       "      <th>order_weekday</th>\n",
       "      <th>on_truck_weekday</th>\n",
       "      <th>order_year</th>\n",
       "      <th>delta_order_truck</th>\n",
       "    </tr>\n",
       "  </thead>\n",
       "  <tbody>\n",
       "    <tr>\n",
       "      <th>2557</th>\n",
       "      <td>CA-2019-117590</td>\n",
       "      <td>2019-12-08</td>\n",
       "      <td>Special Projects Muesil</td>\n",
       "      <td>TEC-PH-10004977</td>\n",
       "      <td>2019-12-11</td>\n",
       "      <td>Express</td>\n",
       "      <td>6</td>\n",
       "      <td>2</td>\n",
       "      <td>2019</td>\n",
       "      <td>3.0</td>\n",
       "    </tr>\n",
       "    <tr>\n",
       "      <th>2795</th>\n",
       "      <td>CA-2020-122196</td>\n",
       "      <td>2020-09-22</td>\n",
       "      <td>Special Projects Muesil</td>\n",
       "      <td>TEC-PH-10004977</td>\n",
       "      <td>2020-09-25</td>\n",
       "      <td>Express</td>\n",
       "      <td>1</td>\n",
       "      <td>4</td>\n",
       "      <td>2020</td>\n",
       "      <td>3.0</td>\n",
       "    </tr>\n",
       "  </tbody>\n",
       "</table>\n",
       "</div>"
      ],
      "text/plain": [
       "            order_id order_date                 category       product_id  \\\n",
       "2557  CA-2019-117590 2019-12-08  Special Projects Muesil  TEC-PH-10004977   \n",
       "2795  CA-2020-122196 2020-09-22  Special Projects Muesil  TEC-PH-10004977   \n",
       "\n",
       "     on_truck_scan_date ship_mode  order_weekday  on_truck_weekday  \\\n",
       "2557         2019-12-11   Express              6                 2   \n",
       "2795         2020-09-25   Express              1                 4   \n",
       "\n",
       "      order_year  delta_order_truck  \n",
       "2557        2019                3.0  \n",
       "2795        2020                3.0  "
      ]
     },
     "execution_count": 59,
     "metadata": {},
     "output_type": "execute_result"
    }
   ],
   "source": [
    "bad_product.query(\"product_id == 'TEC-PH-10004977'\")"
   ]
  },
  {
   "cell_type": "code",
   "execution_count": null,
   "metadata": {},
   "outputs": [
    {
     "data": {
      "text/plain": [
       "array([14,  8,  7,  6,  5,  4,  3,  2,  1])"
      ]
     },
     "execution_count": 60,
     "metadata": {},
     "output_type": "execute_result"
    }
   ],
   "source": [
    "bad_product.product_id.value_counts().unique()"
   ]
  },
  {
   "cell_type": "code",
   "execution_count": null,
   "metadata": {},
   "outputs": [
    {
     "name": "stdout",
     "output_type": "stream",
     "text": [
      "1     574\n",
      "2     452\n",
      "3     243\n",
      "4     114\n",
      "5      32\n",
      "6      19\n",
      "7       5\n",
      "8       2\n",
      "14      1\n",
      "Name: product_id, dtype: int64\n"
     ]
    }
   ],
   "source": [
    "a = bad_product.product_id.value_counts()\n",
    "b = a.value_counts()\n",
    "print(b)"
   ]
  },
  {
   "cell_type": "code",
   "execution_count": null,
   "metadata": {},
   "outputs": [
    {
     "data": {
      "text/plain": [
       "category\n",
       "Power Muesli               1846\n",
       "Special Projects Muesil     759\n",
       "Toasted Muesli              397\n",
       "Name: product_id, dtype: int64"
      ]
     },
     "execution_count": 62,
     "metadata": {},
     "output_type": "execute_result"
    }
   ],
   "source": [
    "category = bad_product.groupby(\"category\")\n",
    "cate = category[\"product_id\"].count()\n",
    "cate"
   ]
  },
  {
   "cell_type": "code",
   "execution_count": null,
   "metadata": {},
   "outputs": [
    {
     "data": {
      "image/png": "[encoded data removed]",
      "text/plain": [
       "<Figure size 432x288 with 1 Axes>"
      ]
     },
     "metadata": {
      "needs_background": "light"
     },
     "output_type": "display_data"
    }
   ],
   "source": [
    "bad_cat = bad_product.query(\"delta_order_truck >= 7\")\n",
    "#fig.tight_layout(h_pad=6)\n",
    "fig = sns.histplot(data=bad_cat, x= bad_cat[\"category\"])\n",
    "fig.set_title(\"Count of orders with process time >= 7\", fontsize=12)\n",
    "fig.set_xlabel(xlabel=\"\")\n",
    "fig.set_ylabel(ylabel=\"\")\n",
    "fig.set_ylim(0,1000);"
   ]
  },
  {
   "cell_type": "code",
   "execution_count": null,
   "metadata": {},
   "outputs": [],
   "source": [
    "bad_mon = bad_product.query(\"delta_order_truck >= 7 and order_weekday == 0\")\n",
    "bad_tue = bad_product.query(\"delta_order_truck >= 7 and order_weekday == 1\")\n",
    "bad_wed = bad_product.query(\"delta_order_truck >= 7 and order_weekday == 2\")\n",
    "bad_thu = bad_product.query(\"delta_order_truck >= 7 and order_weekday == 3\")\n",
    "bad_fri = bad_product.query(\"delta_order_truck >= 7 and order_weekday == 4\")\n",
    "bad_sat = bad_product.query(\"delta_order_truck >= 7 and order_weekday == 5\")\n",
    "bad_sun = bad_product.query(\"delta_order_truck >= 7 and order_weekday == 6\")"
   ]
  },
  {
   "cell_type": "code",
   "execution_count": null,
   "metadata": {},
   "outputs": [
    {
     "data": {
      "image/png": "[encoded data removed]",
      "text/plain": [
       "<Figure size 2520x1440 with 8 Axes>"
      ]
     },
     "metadata": {
      "needs_background": "light"
     },
     "output_type": "display_data"
    }
   ],
   "source": [
    "fig, ax = plt.subplots(2,4, figsize=(35,20))\n",
    "#fig.tight_layout(h_pad=6)\n",
    "fig.suptitle(\"Order-count of product-category with process time >= 7\", fontsize=15)\n",
    "#plt.subplots_adjust(wspace=0)\n",
    "#plt.subplots_adjust(hspace=0)\n",
    "plt.subplots_adjust(top=0.9)\n",
    "\n",
    "fig = sns.histplot(data=bad_mon, x= bad_mon[\"category\"], ax=ax[0,0])\n",
    "fig.set_title(\"Order day = Monday\")\n",
    "fig.set_ylim(0,250);\n",
    "\n",
    "fig = sns.histplot(data=bad_tue, x= bad_tue[\"category\"], ax=ax[0,1])\n",
    "fig.set_title(\"Order day = Tuesday\")\n",
    "fig.set_ylim(0,250);\n",
    "\n",
    "fig = sns.histplot(data=bad_wed, x= bad_wed[\"category\"], ax=ax[0,2])\n",
    "fig.set_title(\"Order day = Wednesday\")\n",
    "fig.set_ylim(0,250);\n",
    "\n",
    "fig = sns.histplot(data=bad_thu, x= bad_thu[\"category\"], ax=ax[0,3])\n",
    "fig.set_title(\"Order day = Thursday\")\n",
    "fig.set_ylim(0,250);\n",
    "\n",
    "fig = sns.histplot(data=bad_fri, x= bad_fri[\"category\"], ax=ax[1,0])\n",
    "fig.set_title(\"Order day = Friday\")\n",
    "fig.set_ylim(0,250);\n",
    "\n",
    "fig = sns.histplot(data=bad_sat, x= bad_sat[\"category\"], ax=ax[1,1])\n",
    "fig.set_title(\"Order day = Saturday\")\n",
    "fig.set_ylim(0,250);\n",
    "\n",
    "fig = sns.histplot(data=bad_sun, x= bad_sun[\"category\"], ax=ax[1,2])\n",
    "fig.set_title(\"Order day = Sunday\")\n",
    "fig.set_ylim(0,250);\n",
    "\n",
    "fig = sns.histplot(ax=ax[1,3])\n",
    "ax[1,3].axis(\"off\");\n"
   ]
  },
  {
   "cell_type": "markdown",
   "metadata": {},
   "source": [
    "# 2. Try to find product causing delays\n",
    "### Creating new DataFrame (because process_time just has 3002 rows and a lot of Product_Ids have been removed because they had no on_truck date)\n",
    "#### not finished -> starting new Notebook"
   ]
  },
  {
   "cell_type": "code",
   "execution_count": null,
   "metadata": {},
   "outputs": [],
   "source": [
    "import numpy as np"
   ]
  },
  {
   "cell_type": "code",
   "execution_count": null,
   "metadata": {},
   "outputs": [],
   "source": [
    "orders_badprod = pd.read_csv(\"data/muesli_raw_orders.csv\", header=1)"
   ]
  },
  {
   "cell_type": "code",
   "execution_count": null,
   "metadata": {},
   "outputs": [],
   "source": [
    "cols = orders_badprod.columns.tolist()\n",
    "cols = [col.replace(' ', '_') for col in cols]\n",
    "orders_badprod.columns = cols"
   ]
  },
  {
   "cell_type": "code",
   "execution_count": null,
   "metadata": {},
   "outputs": [],
   "source": [
    "orders_badprod.columns = orders_badprod.columns.str.lower()"
   ]
  },
  {
   "cell_type": "code",
   "execution_count": null,
   "metadata": {},
   "outputs": [],
   "source": [
    "orders_in2 = orders_badprod[[\"order_id\", \"order_date\",\"category\", \"product_id\"]]"
   ]
  },
  {
   "cell_type": "code",
   "execution_count": null,
   "metadata": {},
   "outputs": [],
   "source": [
    "orders_in2['order_date'] = pd.to_datetime(orders_in2['order_date'], format=\"%d/%m/%Y\")"
   ]
  },
  {
   "cell_type": "code",
   "execution_count": null,
   "metadata": {},
   "outputs": [],
   "source": [
    "bad_product2 = orders_in2.set_index(\"order_id\").join(truck.set_index(\"order_id\"), rsuffix=\"_process\")\n",
    "bad_product2.dropna(subset=\"on_truck_scan_date\", axis=0, inplace=True)\n",
    "bad_product2"
   ]
  },
  {
   "cell_type": "code",
   "execution_count": null,
   "metadata": {},
   "outputs": [],
   "source": [
    "bad_product2.info()"
   ]
  },
  {
   "cell_type": "code",
   "execution_count": null,
   "metadata": {},
   "outputs": [],
   "source": [
    "bad_product2[\"order_weekday\"] = bad_product2[\"order_date\"].dt.dayofweek\n",
    "bad_product2[\"on_truck_weekday\"] = bad_product2[\"on_truck_scan_date\"].dt.dayofweek\n",
    "bad_product2[\"order_year\"] = bad_product2[\"order_date\"].dt.year"
   ]
  },
  {
   "cell_type": "code",
   "execution_count": null,
   "metadata": {},
   "outputs": [],
   "source": [
    "bad_product2[\"delta_order_truck\"] = bad_product2[\"on_truck_scan_date\"] - bad_product2[\"order_date\"]\n",
    "bad_product2['delta_order_truck'] = bad_product2['delta_order_truck'].astype('timedelta64[D]')"
   ]
  },
  {
   "cell_type": "code",
   "execution_count": null,
   "metadata": {},
   "outputs": [
    {
     "data": {
      "text/plain": [
       "1689"
      ]
     },
     "execution_count": 114,
     "metadata": {},
     "output_type": "execute_result"
    }
   ],
   "source": [
    "bad_product2.product_id.nunique()"
   ]
  },
  {
   "cell_type": "markdown",
   "metadata": {},
   "source": [
    "# Creating new DataFrame for Linear Regression"
   ]
  },
  {
   "cell_type": "code",
   "execution_count": null,
   "metadata": {},
   "outputs": [],
   "source": [
    "import statsmodels.api as sm\n",
    "import statsmodels.formula.api as smf"
   ]
  },
  {
   "cell_type": "code",
   "execution_count": null,
   "metadata": {},
   "outputs": [],
   "source": [
    "df = orders[[\"order_id\", \"quantity\", \"sales\",\"category\", \"discount\", \"profit\"]]"
   ]
  },
  {
   "cell_type": "code",
   "execution_count": null,
   "metadata": {},
   "outputs": [],
   "source": [
    "regress = df.merge(process_time, how=\"left\", on=\"order_id\")\n",
    "regress.dropna(axis=0,subset=\"on_truck_scan_date\", inplace=True)"
   ]
  },
  {
   "cell_type": "code",
   "execution_count": null,
   "metadata": {},
   "outputs": [
    {
     "name": "stdout",
     "output_type": "stream",
     "text": [
      "<class 'pandas.core.frame.DataFrame'>\n",
      "Int64Index: 3002 entries, 0 to 5008\n",
      "Data columns (total 13 columns):\n",
      " #   Column              Non-Null Count  Dtype         \n",
      "---  ------              --------------  -----         \n",
      " 0   order_id            3002 non-null   object        \n",
      " 1   quantity            3002 non-null   int64         \n",
      " 2   sales               3002 non-null   float64       \n",
      " 3   category            3002 non-null   object        \n",
      " 4   discount            3002 non-null   float64       \n",
      " 5   profit              3002 non-null   float64       \n",
      " 6   order_date          3002 non-null   datetime64[ns]\n",
      " 7   on_truck_scan_date  3002 non-null   datetime64[ns]\n",
      " 8   ship_mode           3002 non-null   object        \n",
      " 9   delta_order_truck   3002 non-null   float64       \n",
      " 10  order_weekday       3002 non-null   float64       \n",
      " 11  on_truck_weekday    3002 non-null   float64       \n",
      " 12  order_year          3002 non-null   float64       \n",
      "dtypes: datetime64[ns](2), float64(7), int64(1), object(3)\n",
      "memory usage: 328.3+ KB\n"
     ]
    }
   ],
   "source": [
    "regress.info()"
   ]
  },
  {
   "cell_type": "code",
   "execution_count": null,
   "metadata": {},
   "outputs": [
    {
     "data": {
      "image/png": "[encoded data removed]",
      "text/plain": [
       "<Figure size 1080x1080 with 42 Axes>"
      ]
     },
     "metadata": {
      "needs_background": "light"
     },
     "output_type": "display_data"
    }
   ],
   "source": [
    "sns.pairplot(regress, vars=[\"ship_mode\", \"quantity\", \"sales\",\"category\", \"discount\", \"profit\"]);"
   ]
  },
  {
   "cell_type": "code",
   "execution_count": null,
   "metadata": {},
   "outputs": [
    {
     "data": {
      "text/html": [
       "<div>\n",
       "<style scoped>\n",
       "    .dataframe tbody tr th:only-of-type {\n",
       "        vertical-align: middle;\n",
       "    }\n",
       "\n",
       "    .dataframe tbody tr th {\n",
       "        vertical-align: top;\n",
       "    }\n",
       "\n",
       "    .dataframe thead th {\n",
       "        text-align: right;\n",
       "    }\n",
       "</style>\n",
       "<table border=\"1\" class=\"dataframe\">\n",
       "  <thead>\n",
       "    <tr style=\"text-align: right;\">\n",
       "      <th></th>\n",
       "      <th>quantity</th>\n",
       "      <th>sales</th>\n",
       "      <th>discount</th>\n",
       "      <th>profit</th>\n",
       "      <th>delta_order_truck</th>\n",
       "      <th>order_weekday</th>\n",
       "      <th>on_truck_weekday</th>\n",
       "      <th>order_year</th>\n",
       "    </tr>\n",
       "  </thead>\n",
       "  <tbody>\n",
       "    <tr>\n",
       "      <th>quantity</th>\n",
       "      <td>1.000000</td>\n",
       "      <td>0.181462</td>\n",
       "      <td>-0.019757</td>\n",
       "      <td>0.103892</td>\n",
       "      <td>0.039599</td>\n",
       "      <td>-0.007870</td>\n",
       "      <td>0.041690</td>\n",
       "      <td>-0.006874</td>\n",
       "    </tr>\n",
       "    <tr>\n",
       "      <th>sales</th>\n",
       "      <td>0.181462</td>\n",
       "      <td>1.000000</td>\n",
       "      <td>-0.040008</td>\n",
       "      <td>0.650268</td>\n",
       "      <td>-0.000906</td>\n",
       "      <td>-0.041083</td>\n",
       "      <td>0.029617</td>\n",
       "      <td>-0.020502</td>\n",
       "    </tr>\n",
       "    <tr>\n",
       "      <th>discount</th>\n",
       "      <td>-0.019757</td>\n",
       "      <td>-0.040008</td>\n",
       "      <td>1.000000</td>\n",
       "      <td>-0.201294</td>\n",
       "      <td>-0.008778</td>\n",
       "      <td>-0.030647</td>\n",
       "      <td>0.010244</td>\n",
       "      <td>-0.001221</td>\n",
       "    </tr>\n",
       "    <tr>\n",
       "      <th>profit</th>\n",
       "      <td>0.103892</td>\n",
       "      <td>0.650268</td>\n",
       "      <td>-0.201294</td>\n",
       "      <td>1.000000</td>\n",
       "      <td>0.014848</td>\n",
       "      <td>-0.014566</td>\n",
       "      <td>0.030674</td>\n",
       "      <td>-0.039933</td>\n",
       "    </tr>\n",
       "    <tr>\n",
       "      <th>delta_order_truck</th>\n",
       "      <td>0.039599</td>\n",
       "      <td>-0.000906</td>\n",
       "      <td>-0.008778</td>\n",
       "      <td>0.014848</td>\n",
       "      <td>1.000000</td>\n",
       "      <td>0.007351</td>\n",
       "      <td>-0.129763</td>\n",
       "      <td>-0.033670</td>\n",
       "    </tr>\n",
       "    <tr>\n",
       "      <th>order_weekday</th>\n",
       "      <td>-0.007870</td>\n",
       "      <td>-0.041083</td>\n",
       "      <td>-0.030647</td>\n",
       "      <td>-0.014566</td>\n",
       "      <td>0.007351</td>\n",
       "      <td>1.000000</td>\n",
       "      <td>0.009519</td>\n",
       "      <td>-0.081206</td>\n",
       "    </tr>\n",
       "    <tr>\n",
       "      <th>on_truck_weekday</th>\n",
       "      <td>0.041690</td>\n",
       "      <td>0.029617</td>\n",
       "      <td>0.010244</td>\n",
       "      <td>0.030674</td>\n",
       "      <td>-0.129763</td>\n",
       "      <td>0.009519</td>\n",
       "      <td>1.000000</td>\n",
       "      <td>-0.002830</td>\n",
       "    </tr>\n",
       "    <tr>\n",
       "      <th>order_year</th>\n",
       "      <td>-0.006874</td>\n",
       "      <td>-0.020502</td>\n",
       "      <td>-0.001221</td>\n",
       "      <td>-0.039933</td>\n",
       "      <td>-0.033670</td>\n",
       "      <td>-0.081206</td>\n",
       "      <td>-0.002830</td>\n",
       "      <td>1.000000</td>\n",
       "    </tr>\n",
       "  </tbody>\n",
       "</table>\n",
       "</div>"
      ],
      "text/plain": [
       "                   quantity     sales  discount    profit  delta_order_truck  \\\n",
       "quantity           1.000000  0.181462 -0.019757  0.103892           0.039599   \n",
       "sales              0.181462  1.000000 -0.040008  0.650268          -0.000906   \n",
       "discount          -0.019757 -0.040008  1.000000 -0.201294          -0.008778   \n",
       "profit             0.103892  0.650268 -0.201294  1.000000           0.014848   \n",
       "delta_order_truck  0.039599 -0.000906 -0.008778  0.014848           1.000000   \n",
       "order_weekday     -0.007870 -0.041083 -0.030647 -0.014566           0.007351   \n",
       "on_truck_weekday   0.041690  0.029617  0.010244  0.030674          -0.129763   \n",
       "order_year        -0.006874 -0.020502 -0.001221 -0.039933          -0.033670   \n",
       "\n",
       "                   order_weekday  on_truck_weekday  order_year  \n",
       "quantity               -0.007870          0.041690   -0.006874  \n",
       "sales                  -0.041083          0.029617   -0.020502  \n",
       "discount               -0.030647          0.010244   -0.001221  \n",
       "profit                 -0.014566          0.030674   -0.039933  \n",
       "delta_order_truck       0.007351         -0.129763   -0.033670  \n",
       "order_weekday           1.000000          0.009519   -0.081206  \n",
       "on_truck_weekday        0.009519          1.000000   -0.002830  \n",
       "order_year             -0.081206         -0.002830    1.000000  "
      ]
     },
     "execution_count": 105,
     "metadata": {},
     "output_type": "execute_result"
    }
   ],
   "source": [
    "regress.corr()"
   ]
  },
  {
   "cell_type": "code",
   "execution_count": null,
   "metadata": {},
   "outputs": [],
   "source": []
  }
 ],
 "metadata": {
  "interpreter": {
   "hash": "ab3d85a18739f6fff6a9c8c504adc2ff9340867b576dede986e2ee74c099e4e5"
  },
  "kernelspec": {
   "display_name": "Python 3.9.7 ('nf_base')",
   "language": "python",
   "name": "python3"
  },
  "language_info": {
   "codemirror_mode": {
    "name": "ipython",
    "version": 3
   },
   "file_extension": ".py",
   "mimetype": "text/x-python",
   "name": "python",
   "nbconvert_exporter": "python",
   "pygments_lexer": "ipython3",
   "version": "3.7.4"
  },
  "orig_nbformat": 4
 },
 "nbformat": 4,
 "nbformat_minor": 2
}
